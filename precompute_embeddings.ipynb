{
 "cells": [
  {
   "cell_type": "code",
   "execution_count": 5,
   "metadata": {},
   "outputs": [],
   "source": [
    "from torch.autograd import Variable\n",
    "import os\n",
    "import matplotlib.pyplot as plt\n",
    "from collections import Counter\n",
    "import torch\n",
    "import pandas as pd\n",
    "import json\n",
    "import pickle\n",
    "import torch.utils.data\n",
    "from tqdm import tqdm\n",
    "import math\n",
    "import torch.nn as nn\n",
    "import torch.nn.functional as F\n",
    "import torch.optim\n",
    "import numpy as np\n",
    "import re\n",
    "\n",
    "# Set random seed for reproducibility\n",
    "seed = 0\n",
    "np.random.seed(seed)\n",
    "torch.manual_seed(seed)\n",
    "# torch.cuda.manual_seed(seed)\n",
    "# torch.cuda.manual_seed_all(seed)\n",
    "\n",
    "device = torch.device(\"cuda\" if torch.cuda.is_available() else \"cpu\")"
   ]
  },
  {
   "cell_type": "code",
   "execution_count": 6,
   "metadata": {},
   "outputs": [],
   "source": [
    "path_to_dataset = os.path.join(os.getcwd(), 'SGD Dataset')\n",
    "path_to_train = os.path.join(path_to_dataset, \"TrainSet.json\")\n",
    "path_to_test = os.path.join(path_to_dataset, \"TestSet.json\")"
   ]
  },
  {
   "cell_type": "code",
   "execution_count": null,
   "metadata": {},
   "outputs": [],
   "source": [
    "def extract_feature_vectors(sentence, embed, rnn, type=\"last\"):\n",
    "    rnn.eval()\n",
    "    with torch.no_grad():\n",
    "        sentence_tensor = torch.LongTensor([ord(c) for c in sentence]).unsqueeze(1)  # Shape: (seq_len, 1)\n",
    "        hidden_state = rnn.state0(batch_size=1)\n",
    "        hidden_states = []  # Store all hidden states\n",
    "        \n",
    "        for char in sentence_tensor:\n",
    "            char_var = Variable(char)\n",
    "            emb = embed(char_var)\n",
    "            hidden_state, _ = rnn(emb, hidden_state)\n",
    "            hidden_states.append(hidden_state[0].detach().cpu())  # Extract h_t (first element of tuple)\n",
    "\n",
    "        # Last hidden state\n",
    "        last_feature_vector = hidden_states[-1].squeeze()\n",
    "\n",
    "        # Average hidden state\n",
    "        avg_feature_vector = torch.mean(torch.stack(hidden_states), dim=0).squeeze()\n",
    "\n",
    "        return last_feature_vector if type == \"last\" else avg_feature_vector"
   ]
  },
  {
   "cell_type": "code",
   "execution_count": null,
   "metadata": {},
   "outputs": [
    {
     "name": "stderr",
     "output_type": "stream",
     "text": [
      "C:\\Users\\Ward\\AppData\\Local\\Temp\\ipykernel_1404\\1618718805.py:16: FutureWarning: You are using `torch.load` with `weights_only=False` (the current default value), which uses the default pickle module implicitly. It is possible to construct malicious pickle data which will execute arbitrary code during unpickling (See https://github.com/pytorch/pytorch/blob/main/SECURITY.md#untrusted-models for more details). In a future release, the default value for `weights_only` will be flipped to `True`. This limits the functions that could be executed during unpickling. Arbitrary objects will no longer be allowed to be loaded via this mode unless they are explicitly allowlisted by the user via `torch.serialization.add_safe_globals`. We recommend you start setting `weights_only=True` for any use case where you don't have full control of the loaded file. Please open an issue on GitHub for any issues related to this experimental feature.\n",
      "  checkpoint = torch.load('mlstm-ns.pt', map_location='cpu')\n",
      "Processing dialogues for file train_embeddings_average.pt:   0%|          | 0/5403 [00:00<?, ?it/s]\n"
     ]
    },
    {
     "ename": "AttributeError",
     "evalue": "'list' object has no attribute 'size'",
     "output_type": "error",
     "traceback": [
      "\u001b[1;31m---------------------------------------------------------------------------\u001b[0m",
      "\u001b[1;31mAttributeError\u001b[0m                            Traceback (most recent call last)",
      "Cell \u001b[1;32mIn[19], line 19\u001b[0m\n\u001b[0;32m     17\u001b[0m encoder \u001b[38;5;241m=\u001b[39m checkpoint[\u001b[38;5;124m'\u001b[39m\u001b[38;5;124mrnn\u001b[39m\u001b[38;5;124m'\u001b[39m]\n\u001b[0;32m     18\u001b[0m embed \u001b[38;5;241m=\u001b[39m checkpoint[\u001b[38;5;124m'\u001b[39m\u001b[38;5;124membed\u001b[39m\u001b[38;5;124m'\u001b[39m]\n\u001b[1;32m---> 19\u001b[0m \u001b[43mprecompute_embeddings\u001b[49m\u001b[43m(\u001b[49m\u001b[43mpath_to_train\u001b[49m\u001b[43m,\u001b[49m\u001b[43m \u001b[49m\u001b[43membed\u001b[49m\u001b[43m,\u001b[49m\u001b[43m \u001b[49m\u001b[43mencoder\u001b[49m\u001b[43m,\u001b[49m\u001b[43m \u001b[49m\u001b[38;5;124;43m'\u001b[39;49m\u001b[38;5;124;43mtrain_embeddings_average.pt\u001b[39;49m\u001b[38;5;124;43m'\u001b[39;49m\u001b[43m,\u001b[49m\u001b[43m \u001b[49m\u001b[38;5;28;43mtype\u001b[39;49m\u001b[38;5;241;43m=\u001b[39;49m\u001b[38;5;124;43m\"\u001b[39;49m\u001b[38;5;124;43maverage\u001b[39;49m\u001b[38;5;124;43m\"\u001b[39;49m\u001b[43m)\u001b[49m\n\u001b[0;32m     20\u001b[0m precompute_embeddings(path_to_test, embed, encoder, \u001b[38;5;124m'\u001b[39m\u001b[38;5;124mtest_embeddings_average.pt\u001b[39m\u001b[38;5;124m'\u001b[39m, \u001b[38;5;28mtype\u001b[39m\u001b[38;5;241m=\u001b[39m\u001b[38;5;124m\"\u001b[39m\u001b[38;5;124maverage\u001b[39m\u001b[38;5;124m\"\u001b[39m)\n\u001b[0;32m     21\u001b[0m precompute_embeddings(path_to_train, embed, encoder, \u001b[38;5;124m'\u001b[39m\u001b[38;5;124mtrain_embeddings_last.pt\u001b[39m\u001b[38;5;124m'\u001b[39m, \u001b[38;5;28mtype\u001b[39m\u001b[38;5;241m=\u001b[39m\u001b[38;5;124m\"\u001b[39m\u001b[38;5;124mlast\u001b[39m\u001b[38;5;124m\"\u001b[39m)\n",
      "Cell \u001b[1;32mIn[19], line 9\u001b[0m, in \u001b[0;36mprecompute_embeddings\u001b[1;34m(file_path, embed, rnn, output_path, type)\u001b[0m\n\u001b[0;32m      7\u001b[0m \u001b[38;5;28;01mfor\u001b[39;00m dialog \u001b[38;5;129;01min\u001b[39;00m tqdm(dialogues, desc\u001b[38;5;241m=\u001b[39m\u001b[38;5;124m\"\u001b[39m\u001b[38;5;124mProcessing dialogues for file \u001b[39m\u001b[38;5;132;01m{}\u001b[39;00m\u001b[38;5;124m\"\u001b[39m\u001b[38;5;241m.\u001b[39mformat(output_path)):\n\u001b[0;32m      8\u001b[0m     utterances \u001b[38;5;241m=\u001b[39m [turn[\u001b[38;5;124m'\u001b[39m\u001b[38;5;124mutterance\u001b[39m\u001b[38;5;124m'\u001b[39m] \u001b[38;5;28;01mfor\u001b[39;00m turn \u001b[38;5;129;01min\u001b[39;00m dialog]\n\u001b[1;32m----> 9\u001b[0m     embeddings \u001b[38;5;241m=\u001b[39m \u001b[43mextract_feature_vectors_batch\u001b[49m\u001b[43m(\u001b[49m\u001b[43mutterances\u001b[49m\u001b[43m,\u001b[49m\u001b[43m \u001b[49m\u001b[43membed\u001b[49m\u001b[43m,\u001b[49m\u001b[43m \u001b[49m\u001b[43mrnn\u001b[49m\u001b[43m,\u001b[49m\u001b[43m \u001b[49m\u001b[38;5;28;43mtype\u001b[39;49m\u001b[38;5;241;43m=\u001b[39;49m\u001b[38;5;28;43mtype\u001b[39;49m\u001b[43m)\u001b[49m\n\u001b[0;32m     10\u001b[0m     all_embeddings\u001b[38;5;241m.\u001b[39mappend(embeddings)\n\u001b[0;32m     12\u001b[0m \u001b[38;5;66;03m# Save embeddings to disk\u001b[39;00m\n",
      "Cell \u001b[1;32mIn[18], line 12\u001b[0m, in \u001b[0;36mextract_feature_vectors_batch\u001b[1;34m(utterances, embed, rnn, type)\u001b[0m\n\u001b[0;32m     10\u001b[0m \u001b[38;5;66;03m# Process all characters in parallel\u001b[39;00m\n\u001b[0;32m     11\u001b[0m embeddings \u001b[38;5;241m=\u001b[39m []\n\u001b[1;32m---> 12\u001b[0m \u001b[38;5;28;01mfor\u001b[39;00m t \u001b[38;5;129;01min\u001b[39;00m \u001b[38;5;28mrange\u001b[39m(\u001b[43msentence_tensors\u001b[49m\u001b[38;5;241;43m.\u001b[39;49m\u001b[43msize\u001b[49m(\u001b[38;5;241m1\u001b[39m)):  \u001b[38;5;66;03m# Iterate over sequence length\u001b[39;00m\n\u001b[0;32m     13\u001b[0m     char_var \u001b[38;5;241m=\u001b[39m Variable(sentence_tensors[:, t])  \u001b[38;5;66;03m# (batch_size,)\u001b[39;00m\n\u001b[0;32m     14\u001b[0m     emb \u001b[38;5;241m=\u001b[39m embed(char_var)  \u001b[38;5;66;03m# (batch_size, embed_dim)\u001b[39;00m\n",
      "\u001b[1;31mAttributeError\u001b[0m: 'list' object has no attribute 'size'"
     ]
    }
   ],
   "source": [
    "def precompute_embeddings(file_path, embed, rnn, output_path, type=\"average\"):\n",
    "    with open(file_path, 'r') as f:\n",
    "        file_contents = json.load(f)\n",
    "        dialogues = [dialogue['turns'] for dialogue in file_contents]\n",
    "        all_embeddings = []\n",
    "        \n",
    "        for dialog in tqdm(dialogues, desc=\"Processing dialogues for file {}\".format(output_path)):\n",
    "            embeddings = [extract_feature_vectors(turn['utterance'], embed, rnn, type=type) for turn in dialog]\n",
    "            all_embeddings.append(embeddings)\n",
    "        \n",
    "        # Save embeddings to disk\n",
    "        torch.save(all_embeddings, output_path)\n",
    "\n",
    "# Example usage\n",
    "checkpoint = torch.load('mlstm-ns.pt', map_location='cpu')\n",
    "encoder = checkpoint['rnn']\n",
    "embed = checkpoint['embed']\n",
    "precompute_embeddings(path_to_train, embed, encoder, 'train_embeddings_average.pt', type=\"average\")\n",
    "precompute_embeddings(path_to_test, embed, encoder, 'test_embeddings_average.pt', type=\"average\")\n",
    "precompute_embeddings(path_to_train, embed, encoder, 'train_embeddings_last.pt', type=\"last\")\n",
    "precompute_embeddings(path_to_test, embed, encoder, 'test_embeddings_last.pt', type=\"last\")"
   ]
  },
  {
   "cell_type": "code",
   "execution_count": 34,
   "metadata": {},
   "outputs": [],
   "source": [
    "import torch\n",
    "from torch.autograd import Variable\n",
    "import json\n",
    "from tqdm import tqdm\n",
    "\n",
    "def extract_feature_vectors(sentence, embed, rnn, type=\"last\", device='cuda'):\n",
    "    \"\"\"\n",
    "    Extract feature vectors using GPU\n",
    "    \"\"\"\n",
    "    rnn.eval()\n",
    "    # Move models to GPU\n",
    "    embed.to(device)\n",
    "    rnn.to(device)\n",
    "    \n",
    "    if not sentence:  # Handle empty utterances\n",
    "        output_size = encoder.h2o.weight.shape[1]  # Get the embedding size dynamically\n",
    "        return torch.zeros(output_size).cpu()  # Return a zero vector\n",
    "\n",
    "    with torch.no_grad():\n",
    "        # Create tensor on GPU directly\n",
    "        sentence_tensor = torch.LongTensor([ord(c) for c in sentence]).unsqueeze(1).to(device)  # Shape: (seq_len, 1)\n",
    "        \n",
    "        # Get initial state and move to device\n",
    "        hidden_state = rnn.state0(batch_size=1)\n",
    "        h_0, c_0 = hidden_state\n",
    "        h_0 = h_0.to(device)\n",
    "        c_0 = c_0.to(device)\n",
    "        hidden_state = (h_0, c_0)\n",
    "        \n",
    "        hidden_states = []  # Store all hidden states\n",
    "        \n",
    "        for char in sentence_tensor:\n",
    "            emb = embed(char)\n",
    "            hidden_state, _ = rnn(emb, hidden_state)\n",
    "            # Only move to CPU after processing is complete\n",
    "            hidden_states.append(hidden_state[0].detach())  # Keep on GPU for now\n",
    "        \n",
    "        # Stack all hidden states on GPU and then move to CPU at the end\n",
    "        stacked_states = torch.stack(hidden_states)\n",
    "        \n",
    "        # Last hidden state\n",
    "        last_feature_vector = stacked_states[-1].squeeze()\n",
    "        \n",
    "        # Average hidden state\n",
    "        avg_feature_vector = torch.mean(stacked_states, dim=0).squeeze()\n",
    "        \n",
    "        # Return to CPU only at the end\n",
    "        if type == \"last\":\n",
    "            return last_feature_vector.cpu()\n",
    "        else:\n",
    "            return avg_feature_vector.cpu()\n",
    "\n",
    "def precompute_embeddings(file_path, embed, rnn, output_path, type=\"average\", device='cuda'):\n",
    "    \"\"\"\n",
    "    Precompute embeddings using GPU\n",
    "    \"\"\"\n",
    "    with open(file_path, 'r') as f:\n",
    "        file_contents = json.load(f)\n",
    "        dialogues = [dialogue['turns'] for dialogue in file_contents]\n",
    "        all_embeddings = []\n",
    "        \n",
    "        for dialog in tqdm(dialogues, desc=\"Processing dialogues for file {}\".format(output_path)):\n",
    "            embeddings = [extract_feature_vectors(turn['utterance'], embed, rnn, type=type, device=device) for turn in dialog]\n",
    "            all_embeddings.append(embeddings)\n",
    "        \n",
    "        # Save embeddings to disk\n",
    "        torch.save(all_embeddings, output_path)\n",
    "\n",
    "# Example usage\n",
    "def run_embedding_extraction(model_path='mlstm-ns.pt', path_to_train=None, path_to_test=None):\n",
    "    # Check if CUDA is available, otherwise fall back to CPU\n",
    "    device = 'cuda' if torch.cuda.is_available() else 'cpu'\n",
    "    print(f\"Using device: {device}\")\n",
    "    \n",
    "    # Load model to specified device\n",
    "    checkpoint = torch.load(model_path, map_location=device)\n",
    "    encoder = checkpoint['rnn']\n",
    "    embed = checkpoint['embed']\n",
    "    \n",
    "    # Process train data\n",
    "    # if path_to_train:\n",
    "        # print(\"Processing training data...\")\n",
    "        # precompute_embeddings(path_to_train, embed, encoder, \n",
    "        #                      'train_embeddings_average.pt', \n",
    "        #                      type=\"average\", device=device)\n",
    "        \n",
    "        # precompute_embeddings(path_to_train, embed, encoder, \n",
    "        #                      'train_embeddings_last.pt', \n",
    "        #                      type=\"last\", device=device)\n",
    "    \n",
    "    # Process test data\n",
    "    if path_to_test:\n",
    "        print(\"Processing test data...\")\n",
    "        precompute_embeddings(path_to_test, embed, encoder, \n",
    "                             'test_embeddings_average.pt', \n",
    "                             type=\"average\", device=device)\n",
    "        \n",
    "        # precompute_embeddings(path_to_test, embed, encoder, \n",
    "        #                      'test_embeddings_last.pt', \n",
    "        #                      type=\"last\", device=device)\n",
    "    \n",
    "    print(\"All processing complete!\")"
   ]
  },
  {
   "cell_type": "code",
   "execution_count": 35,
   "metadata": {},
   "outputs": [
    {
     "name": "stdout",
     "output_type": "stream",
     "text": [
      "Using device: cuda\n"
     ]
    },
    {
     "name": "stderr",
     "output_type": "stream",
     "text": [
      "C:\\Users\\Ward\\AppData\\Local\\Temp\\ipykernel_1404\\939423443.py:76: FutureWarning: You are using `torch.load` with `weights_only=False` (the current default value), which uses the default pickle module implicitly. It is possible to construct malicious pickle data which will execute arbitrary code during unpickling (See https://github.com/pytorch/pytorch/blob/main/SECURITY.md#untrusted-models for more details). In a future release, the default value for `weights_only` will be flipped to `True`. This limits the functions that could be executed during unpickling. Arbitrary objects will no longer be allowed to be loaded via this mode unless they are explicitly allowlisted by the user via `torch.serialization.add_safe_globals`. We recommend you start setting `weights_only=True` for any use case where you don't have full control of the loaded file. Please open an issue on GitHub for any issues related to this experimental feature.\n",
      "  checkpoint = torch.load(model_path, map_location=device)\n"
     ]
    },
    {
     "name": "stdout",
     "output_type": "stream",
     "text": [
      "Processing test data...\n"
     ]
    },
    {
     "name": "stderr",
     "output_type": "stream",
     "text": [
      "Processing dialogues for file test_embeddings_average.pt: 100%|██████████| 1331/1331 [15:36<00:00,  1.42it/s]\n"
     ]
    },
    {
     "name": "stdout",
     "output_type": "stream",
     "text": [
      "All processing complete!\n"
     ]
    }
   ],
   "source": [
    "run_embedding_extraction(model_path='mlstm-ns.pt', path_to_train=path_to_train, path_to_test=path_to_test)"
   ]
  }
 ],
 "metadata": {
  "kernelspec": {
   "display_name": "multibench",
   "language": "python",
   "name": "python3"
  },
  "language_info": {
   "codemirror_mode": {
    "name": "ipython",
    "version": 3
   },
   "file_extension": ".py",
   "mimetype": "text/x-python",
   "name": "python",
   "nbconvert_exporter": "python",
   "pygments_lexer": "ipython3",
   "version": "3.12.3"
  }
 },
 "nbformat": 4,
 "nbformat_minor": 2
}
