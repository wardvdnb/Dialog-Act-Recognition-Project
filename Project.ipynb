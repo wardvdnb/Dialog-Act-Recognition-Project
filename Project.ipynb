{
  "cells": [
    {
      "cell_type": "markdown",
      "metadata": {
        "id": "2pyPsk-EPgog"
      },
      "source": [
        "## Challenge: A deep dive into Dialogue Act Recognition\n",
        "**By**: *Ward Van den Bossche*, **Student ID**: *0605083*"
      ]
    },
    {
      "cell_type": "code",
      "execution_count": 468,
      "metadata": {
        "colab": {
          "base_uri": "https://localhost:8080/"
        },
        "id": "SHNnpwbqPo4C",
        "outputId": "fc670e43-7890-49be-d145-60ce6fe90de0"
      },
      "outputs": [],
      "source": [
        "USING_COLAB = False\n",
        "if USING_COLAB:\n",
        "    from google.colab import drive\n",
        "    drive.mount('/content/drive')"
      ]
    },
    {
      "cell_type": "markdown",
      "metadata": {
        "id": "trE5xCcbPgok"
      },
      "source": [
        "\"The Schema-Guided Dialogue (SGD) dataset consists of over 20k annotated multi-domain, task-oriented conversations between a human and a virtual assistant\" (https://github.com/google-research-datasets/dstc8-schema-guided-dialogue) It pertains to different domains like banking and weather. In addition to a training and test set, there is also a crowdfunded variant dataset (SGD-X) that can be used to test a model's generalization capabilities to real-world settings.  What's interesting for this project is the dialogue act annotations, which are defined for both system and user. Some possible values include: INFORM, REQUEST, CONFIRM. A complete list can be found on the dataset's github README.md file."
      ]
    },
    {
      "cell_type": "code",
      "execution_count": 469,
      "metadata": {
        "id": "39IWJk_QPgol"
      },
      "outputs": [],
      "source": [
        "import os\n",
        "import matplotlib.pyplot as plt\n",
        "from collections import Counter\n",
        "import torch\n",
        "import pandas as pd\n",
        "import json\n",
        "import pickle\n",
        "import torch.utils.data\n",
        "from tqdm import tqdm\n",
        "import math\n",
        "import torch.nn as nn\n",
        "import torch.nn.functional as F\n",
        "import torch.optim\n",
        "import numpy as np\n",
        "import re\n",
        "device = torch.device(\"cuda\" if torch.cuda.is_available() else \"cpu\")"
      ]
    },
    {
      "cell_type": "code",
      "execution_count": 470,
      "metadata": {},
      "outputs": [],
      "source": [
        "# Only need to run this code block once, to get a properly formatted json file for test and train set\n",
        "\n",
        "# train_path = os.path.join(os.getcwd(), 'SGD Dataset', 'TrainSet.json')\n",
        "# test_path = os.path.join(os.getcwd(), 'SGD Dataset', 'TestSet.json')\n",
        "\n",
        "# def format_json(path):\n",
        "#     # For readability purposes, ensure proper structure in the train/test set files\n",
        "#     with open(path, \"r\") as f:\n",
        "#         data = json.load(f)\n",
        "\n",
        "#     with open(path.replace(\".json\", \"_formatted.json\"), \"w\") as f:\n",
        "#         json.dump(data, f, indent=4, ensure_ascii=False)\n",
        "\n",
        "# format_json(train_path)\n",
        "# format_json(test_path)"
      ]
    },
    {
      "cell_type": "code",
      "execution_count": 471,
      "metadata": {
        "id": "vEw96z0ePgom"
      },
      "outputs": [],
      "source": [
        "if USING_COLAB:\n",
        "  path_to_dataset = os.path.join(os.getcwd(), \"drive\", \"MyDrive\", \"Current Trends VUB\", 'SGD Dataset')\n",
        "else:\n",
        "  path_to_dataset = os.path.join(os.getcwd(), 'SGD Dataset')\n",
        "path_to_train = os.path.join(path_to_dataset, \"TrainSet.json\")\n",
        "path_to_test = os.path.join(path_to_dataset, \"TestSet.json\")"
      ]
    },
    {
      "cell_type": "markdown",
      "metadata": {
        "id": "fZOpZcbjPgom"
      },
      "source": [
        "### Implementation 1: Simple RNN\n",
        "\n",
        "For the first implementation we'll implement a simple RNN on the utterances of this dataset, at inference time the user can then input an utterance and have the system return a dialogue act predicted by the neural network."
      ]
    },
    {
      "cell_type": "markdown",
      "metadata": {
        "id": "DKlWK6J2Pgon"
      },
      "source": [
        "#### Preprocessing\n",
        "The preprocessing step involves extracting all utterances from the.json files, together with their dialogue acts, which will be used as \"labels\" in our prediction task. In addition to this, the speaker can be USER or SYSTEM, this information will be encoded in a separate token."
      ]
    },
    {
      "cell_type": "code",
      "execution_count": 472,
      "metadata": {},
      "outputs": [],
      "source": [
        "EOD = \"<eod>\" # End of dialogue token"
      ]
    },
    {
      "cell_type": "code",
      "execution_count": 473,
      "metadata": {
        "id": "ZfX5fa3BPgon"
      },
      "outputs": [
        {
          "name": "stdout",
          "output_type": "stream",
          "text": [
            "{'speaker': 'USER', 'utterance': 'I appreciate it very much. That would be all.', 'act': 'USER_THANK_YOU|USER_GOODBYE'}\n",
            "{'speaker': 'SYSTEM', 'utterance': 'Have a good time! <eod>', 'act': 'SYSTEM_GOODBYE'}\n",
            "{'speaker': 'USER', 'utterance': 'Hi i need a help, i am very hungry, I am looking for a restaurant', 'act': 'USER_INFORM_INTENT'}\n"
          ]
        }
      ],
      "source": [
        "def extract_turn_data(file_path):\n",
        "    all_data = []\n",
        "    with open(file_path, 'r') as f:\n",
        "        data = json.load(f)\n",
        "        for dialogue in data:\n",
        "            for turn in dialogue['turns']:\n",
        "                all_data.append({\n",
        "                    'speaker': turn['speaker'],\n",
        "                    'utterance': turn['utterance'],\n",
        "                    'act': turn[\"dialogue_act\"]\n",
        "                })\n",
        "            all_data[-1]['utterance'] += f\" {EOD}\" # Add an End Of Dialogue marker at the end of last utterance in turn\n",
        "    return all_data\n",
        "\n",
        "extracted_train = extract_turn_data(path_to_train)\n",
        "extracted_test = extract_turn_data(path_to_test)\n",
        "\n",
        "for i in range(22, 25):\n",
        "    print(extracted_train[i])"
      ]
    },
    {
      "cell_type": "code",
      "execution_count": 474,
      "metadata": {
        "id": "QguqFbvfPgoo"
      },
      "outputs": [],
      "source": [
        "acts = list(set([data['act'] for data in extracted_train] + [data['act'] for data in extracted_test]))\n",
        "\n",
        "acts_labels = {act : i for i, act in enumerate(acts)}\n",
        "inv_acts_labels = {v: k for k, v in acts_labels.items()}\n",
        "\n",
        "# Modified code for processing turns\n",
        "label_train = [ acts_labels[turn['act']] for turn in extracted_train ]\n",
        "label_test = [ acts_labels[turn['act']] for turn in extracted_test ]"
      ]
    },
    {
      "cell_type": "code",
      "execution_count": 475,
      "metadata": {
        "id": "catjRbFwPgop"
      },
      "outputs": [],
      "source": [
        "def clean_utterances(extracted_turns):\n",
        "    utterances = []\n",
        "    \n",
        "    for data in extracted_turns:\n",
        "        utterance = data['utterance'].lower()\n",
        "\n",
        "        # Replace monetary values: \"$23.53\", \"$1,000\", \"$500\"\n",
        "        utterance = re.sub(r'\\$\\d+(?:,\\d{3})*(?:\\.\\d{2})?', '<price>', utterance)\n",
        "\n",
        "        # Replace all remaining numbers with <number>\n",
        "        utterance = re.sub(r'\\b\\d+\\b', '<number>', utterance)\n",
        "\n",
        "        # Separate \"?\" from words (turns \"hello?\" into \"hello ?\")\n",
        "        # such that it can become it's own token and maybe help the model recognize \"requests\"\n",
        "        utterance = re.sub(r'(\\w+)\\?', r'\\1 ?', utterance)\n",
        "\n",
        "        # Remove unwanted characters\n",
        "        chars_to_erase = ['.', ',', '!', '$']\n",
        "        for char in chars_to_erase:\n",
        "            utterance = utterance.replace(char, '')\n",
        "\n",
        "        utterances.append(utterance)\n",
        "    \n",
        "    return utterances\n"
      ]
    },
    {
      "cell_type": "code",
      "execution_count": 476,
      "metadata": {
        "id": "or95CoGlPgoq"
      },
      "outputs": [],
      "source": [
        "utterances_train = clean_utterances(extracted_train)\n",
        "utterances_test = clean_utterances(extracted_test)"
      ]
    },
    {
      "cell_type": "code",
      "execution_count": 477,
      "metadata": {
        "id": "nAOcM29mPgoq"
      },
      "outputs": [],
      "source": [
        "word_freq = Counter()\n",
        "for utterance in utterances_train:\n",
        "    utterance_words = utterance.split()\n",
        "    word_freq.update(utterance_words)"
      ]
    },
    {
      "cell_type": "code",
      "execution_count": 478,
      "metadata": {
        "colab": {
          "base_uri": "https://localhost:8080/",
          "height": 303
        },
        "id": "moVAq3PcPgoq",
        "outputId": "ce03dc39-4490-4ebf-dade-5636e873837d"
      },
      "outputs": [
        {
          "data": {
            "image/png": "[encoded data removed]",
            "text/plain": [
              "<Figure size 1000x400 with 1 Axes>"
            ]
          },
          "metadata": {},
          "output_type": "display_data"
        }
      ],
      "source": [
        "# lets have a look at the top 10 words\n",
        "top_words = [word for word, count in word_freq.most_common(15)]\n",
        "top_frequencies = [count for word, count in word_freq.most_common(15)]\n",
        "\n",
        "# Create a bar plot for the top 5 words\n",
        "plt.figure(figsize=(10,4))\n",
        "plt.bar(top_words, top_frequencies)\n",
        "plt.xlabel(\"Words\")\n",
        "plt.ylabel(\"Frequency\")\n",
        "plt.title(\"Top 15 Words Frequency Histogram\")\n",
        "plt.xticks(rotation=45)  # Rotate x-axis labels for better readability\n",
        "plt.tight_layout()\n",
        "plt.show()"
      ]
    },
    {
      "cell_type": "code",
      "execution_count": 479,
      "metadata": {
        "colab": {
          "base_uri": "https://localhost:8080/"
        },
        "id": "dzE7B3LRPgoq",
        "outputId": "e42430e7-0525-4d2c-d42b-75f8fa8f01b6"
      },
      "outputs": [
        {
          "name": "stdout",
          "output_type": "stream",
          "text": [
            "Total words are: 2704\n"
          ]
        }
      ],
      "source": [
        "min_word_freq = 5\n",
        "words = [w for w in word_freq.keys() if word_freq[w] > min_word_freq]\n",
        "word_map = {k: v + 1 for v, k in enumerate(words)}\n",
        "word_map['<unk>'] = len(word_map) + 1\n",
        "word_map['<start>'] = len(word_map) + 1\n",
        "word_map['<end>'] = len(word_map) + 1\n",
        "word_map['<pad>'] = 0\n",
        "rev_word_map = {v: k for k, v in word_map.items()}\n",
        "\n",
        "print(f\"Total words are: {len(word_map)}\")"
      ]
    },
    {
      "cell_type": "code",
      "execution_count": 480,
      "metadata": {
        "id": "9yfvaXlaPgor"
      },
      "outputs": [],
      "source": [
        "def encode_text(data, max_len):\n",
        "    \"\"\"\n",
        "    Assign a numerical value (0 to len(word_map)) to each word in the\n",
        "    utterance while handling special tokens.\n",
        "    \"\"\"\n",
        "    encoded_texts = []\n",
        "    \n",
        "    for utterance in data:\n",
        "        utterance_words = utterance.lower().split()\n",
        "        is_last_utterance = utterance_words[-1] == EOD.lower()\n",
        "        adjusted_max_len = max_len - (3 if is_last_utterance else 2)  # Adjust for special tokens\n",
        "        words = utterance_words[:adjusted_max_len]\n",
        "\n",
        "        # Tokenization with special tokens\n",
        "        tokenized = [word_map['<start>']]\n",
        "        tokenized += [word_map.get(word, word_map['<unk>']) for word in words]\n",
        "        tokenized.append(word_map['<end>'])\n",
        "        \n",
        "        if is_last_utterance:\n",
        "            tokenized.append(word_map[EOD])\n",
        "        \n",
        "        # Padding\n",
        "        tokenized += [word_map['<pad>']] * (adjusted_max_len - len(words))\n",
        "        \n",
        "        encoded_texts.append(tokenized)\n",
        "    \n",
        "    return encoded_texts\n"
      ]
    },
    {
      "cell_type": "code",
      "execution_count": 481,
      "metadata": {
        "id": "6SBir4YTPgor"
      },
      "outputs": [],
      "source": [
        "encoded_texts = encode_text(utterances_train, max_len = 100)\n",
        "encoded_texts_test = encode_text(utterances_test, max_len = 100)"
      ]
    },
    {
      "cell_type": "code",
      "execution_count": 482,
      "metadata": {
        "colab": {
          "base_uri": "https://localhost:8080/"
        },
        "id": "ElC4E7mbPgor",
        "outputId": "ee811b7a-2d63-4cf5-ecc5-673a6346e0e2"
      },
      "outputs": [
        {
          "name": "stdout",
          "output_type": "stream",
          "text": [
            "<start> have a good time <eod> <end> <eod> <pad> <pad> <pad> <pad> <pad> <pad> <pad> <pad> <pad> <pad> <pad> <pad> <pad> <pad> <pad> <pad> <pad> <pad> <pad> <pad> <pad> <pad> <pad> <pad> <pad> <pad> <pad> <pad> <pad> <pad> <pad> <pad> <pad> <pad> <pad> <pad> <pad> <pad> <pad> <pad> <pad> <pad> <pad> <pad> <pad> <pad> <pad> <pad> <pad> <pad> <pad> <pad> <pad> <pad> <pad> <pad> <pad> <pad> <pad> <pad> <pad> <pad> <pad> <pad> <pad> <pad> <pad> <pad> <pad> <pad> <pad> <pad> <pad> <pad> <pad> <pad> <pad> <pad> <pad> <pad> <pad> <pad> <pad> <pad> <pad> <pad> <pad> <pad> <pad> <pad> <pad> <pad>\n",
            "100\n"
          ]
        }
      ],
      "source": [
        "# test one sample\n",
        "example_tokens = encoded_texts[23]\n",
        "print(\" \".join([rev_word_map[t] for t in example_tokens]))\n",
        "print(len(example_tokens))"
      ]
    },
    {
      "cell_type": "markdown",
      "metadata": {
        "id": "9NWKUVNtPgor"
      },
      "source": [
        "#### Dataset and Data Loaders"
      ]
    },
    {
      "cell_type": "code",
      "execution_count": 483,
      "metadata": {
        "id": "3l9TiDYaPgos"
      },
      "outputs": [],
      "source": [
        "X_train = torch.tensor(encoded_texts)    # (number_of_samples, max_length)\n",
        "y_train = torch.LongTensor(label_train)  # (number_of_samples)\n",
        "X_test = torch.tensor(encoded_texts_test)\n",
        "y_test = torch.LongTensor(label_test)\n",
        "\n",
        "train_dataset = torch.utils.data.TensorDataset(X_train, y_train)\n",
        "train_loader = torch.utils.data.DataLoader(train_dataset, \n",
        "                                           batch_size=128, \n",
        "                                           shuffle=True)\n",
        "\n",
        "test_dataset = torch.utils.data.TensorDataset(X_test, y_test)\n",
        "test_loader = torch.utils.data.DataLoader(test_dataset, \n",
        "                                          batch_size=128, \n",
        "                                          shuffle=True)"
      ]
    },
    {
      "cell_type": "markdown",
      "metadata": {
        "id": "GrZIf4ARPgos"
      },
      "source": [
        "RNN Network defined by:\n",
        "\n",
        "$h_t= \\tanh \\left(W_h \\cdot\\left[h_{t-1}, x_t\\right]+b_i\\right)$ <br>"
      ]
    },
    {
      "cell_type": "code",
      "execution_count": 484,
      "metadata": {
        "id": "ijgtNYhoPgos"
      },
      "outputs": [],
      "source": [
        "class RNN(nn.Module):\n",
        "    def __init__(self, input_sz, hidden_sz):\n",
        "        super(RNN, self).__init__()\n",
        "        self.input_size = input_sz\n",
        "        self.hidden_size = hidden_sz\n",
        "\n",
        "        self.W_h = nn.Linear(input_sz + hidden_sz, hidden_sz)\n",
        "\n",
        "    def forward(self, x):\n",
        "        batch_size, seq_len, embed_dim = x.size()\n",
        "\n",
        "        h_t, c_t = (torch.zeros(batch_size, self.hidden_size).to(device),\n",
        "                    torch.zeros(batch_size, self.hidden_size).to(device))\n",
        "\n",
        "        hidden_states = []\n",
        "\n",
        "        for t in range(seq_len):\n",
        "            x_t = x[:, t, :]\n",
        "            common_input = torch.cat([x_t, h_t], dim=-1)\n",
        "            h_t = torch.tanh(self.W_h(common_input))\n",
        "            hidden_states.append(h_t.unsqueeze(1))\n",
        "\n",
        "        hidden_states = torch.cat(hidden_states, dim=1)\n",
        "\n",
        "        return hidden_states"
      ]
    },
    {
      "cell_type": "code",
      "execution_count": 485,
      "metadata": {},
      "outputs": [],
      "source": [
        "class LSTM(nn.Module):\n",
        "    \n",
        "    def __init__(self, input_sz, hidden_sz):\n",
        "        \n",
        "        super(LSTM, self).__init__()\n",
        "        self.input_size = input_sz\n",
        "        self.hidden_size = hidden_sz\n",
        "        \n",
        "        #c_t: new memory (the new memory)\n",
        "        self.W_c = nn.Linear(input_sz + hidden_sz, hidden_sz)\n",
        "\n",
        "        #i_t: input gate (how much to take from the new memory)\n",
        "        self.W_i = nn.Linear(input_sz + hidden_sz, hidden_sz)\n",
        "\n",
        "        #f_t: forget gate (how much to forget from the old memory)\n",
        "        self.W_f = nn.Linear(input_sz + hidden_sz, hidden_sz)\n",
        "\n",
        "        #o_t: output gate (how much to take from the new memory to represent the output)\n",
        "        self.W_o = nn.Linear(input_sz + hidden_sz, hidden_sz)\n",
        "\n",
        "        self.init_weights()\n",
        "        \n",
        "    def init_weights(self):\n",
        "        stdv = 1.0 / math.sqrt(self.hidden_size)\n",
        "        for weight in self.parameters():\n",
        "            weight.data.uniform_(-stdv, stdv)\n",
        "            \n",
        "    def forward(self, x):\n",
        "        batch_size, seq_len, embed_dim = x.size()  \n",
        "        \n",
        "        # initialize h_t and c_t to zeros\n",
        "        h_t, c_t = (torch.zeros(batch_size, self.hidden_size).to(device), \n",
        "                    torch.zeros(batch_size,self.hidden_size).to(device))\n",
        "        \n",
        "        hidden_states = []\n",
        "        \n",
        "        for t in range(seq_len):\n",
        "            # get the input at the current timestep \n",
        "            x_t = x[:, t, :]\n",
        "            \n",
        "            # run the LSTM Cell\n",
        "            common_input = torch.cat([x_t, h_t], dim = -1)\n",
        "            \n",
        "            new_c = torch.tanh(self.W_c(common_input))\n",
        "            i_t = torch.sigmoid(self.W_i(common_input))\n",
        "            f_t = torch.sigmoid(self.W_f(common_input))\n",
        "            c_t = f_t * c_t + i_t * new_c\n",
        "            \n",
        "            o_t = torch.sigmoid(self.W_o(common_input))\n",
        "            h_t = o_t * torch.tanh(c_t)\n",
        "            \n",
        "            # save the hidden states in a list\n",
        "            hidden_states.append(h_t.unsqueeze(1))\n",
        "            \n",
        "        hidden_states = torch.cat(hidden_states, dim = 1)\n",
        "            \n",
        "        return hidden_states"
      ]
    },
    {
      "cell_type": "code",
      "execution_count": 486,
      "metadata": {
        "id": "Ikttfh0NPgos"
      },
      "outputs": [],
      "source": [
        "class Net(nn.Module):\n",
        "    \n",
        "    def __init__(self, input_embedding_size, hidden_size, pooling_type = 'last_hidden_state'):\n",
        "        \n",
        "        super().__init__()\n",
        "\n",
        "        self.embedding = nn.Embedding(len(word_map), input_embedding_size)\n",
        "        # self.rnn = RNN(input_embedding_size, hidden_size) # Uncomment for RNN (and change in forward pass)\n",
        "        self.lstm = LSTM(input_embedding_size, hidden_size)\n",
        "        self.classifier = nn.Linear(hidden_size, len(acts_labels))\n",
        "        self.pooling_type = pooling_type\n",
        "        \n",
        "    def forward(self, x):\n",
        "        \n",
        "        # x is of shape (batch_size, max_seq_length)\n",
        "        x = self.embedding(x)   # (batch_size, seq_len, embed_dim)\n",
        "        x = self.lstm(x)        # (batch_size, seq_len, hidden_size)\n",
        "\n",
        "        if self.pooling_type == \"last_hidden_state\":\n",
        "            x = x[:, -1, :]     # (batch_size, hidden_size)\n",
        "        else:\n",
        "            x = x.mean(1)       # (batch_size, hidden_size)\n",
        "\n",
        "        x = self.classifier(x)         # (batch_size, len(acts_labels))\n",
        "        return x"
      ]
    },
    {
      "cell_type": "code",
      "execution_count": 487,
      "metadata": {
        "id": "IJdxYdH5Pgos"
      },
      "outputs": [],
      "source": [
        "def train(model, optimizer, criterion, epoch):\n",
        "    model.train()\n",
        "    train_loss = 0\n",
        "    correct = 0\n",
        "    total = 0\n",
        "    for batch_idx, (inputs, targets) in enumerate(train_loader):\n",
        "        # move to device\n",
        "        inputs = inputs.to(device)\n",
        "        targets = targets.to(device)\n",
        "        \n",
        "        # run forward-backward pass\n",
        "        optimizer.zero_grad()\n",
        "        outputs = model(inputs)\n",
        "        loss = criterion(outputs, targets)\n",
        "        loss.backward()\n",
        "        optimizer.step()\n",
        "\n",
        "        # keep track of loss and accuracy\n",
        "        train_loss += loss.item()\n",
        "        _, predicted = outputs.max(1)\n",
        "        total += targets.size(0)\n",
        "        correct += predicted.eq(targets).sum().item()\n",
        "    \n",
        "    epoch_loss = train_loss / (batch_idx+1)\n",
        "    epoch_acc = 100.* correct / total\n",
        "    print('Epoch {}/{}, Iter {}/{}, Train Loss: {:.3f}, Train Accuracy: {:.3f}'.format(epoch, epochs, batch_idx, \n",
        "                                                                                       len(train_loader),\n",
        "                                                                                       epoch_loss, \n",
        "                                                                                       epoch_acc))\n",
        "    return epoch_loss, epoch_acc"
      ]
    },
    {
      "cell_type": "code",
      "execution_count": 488,
      "metadata": {
        "id": "EkRnW_NFPgos"
      },
      "outputs": [
        {
          "name": "stdout",
          "output_type": "stream",
          "text": [
            "Epoch 0/10, Iter 645/646, Train Loss: 3.200, Train Accuracy: 10.118\n",
            "Epoch 1/10, Iter 645/646, Train Loss: 3.190, Train Accuracy: 10.402\n",
            "Epoch 2/10, Iter 645/646, Train Loss: 3.189, Train Accuracy: 10.465\n",
            "Epoch 3/10, Iter 645/646, Train Loss: 3.188, Train Accuracy: 10.386\n",
            "Epoch 4/10, Iter 645/646, Train Loss: 3.188, Train Accuracy: 10.456\n",
            "Epoch 5/10, Iter 645/646, Train Loss: 3.188, Train Accuracy: 10.529\n",
            "Epoch 6/10, Iter 645/646, Train Loss: 3.189, Train Accuracy: 10.332\n",
            "Epoch 7/10, Iter 645/646, Train Loss: 3.189, Train Accuracy: 10.256\n",
            "Epoch 8/10, Iter 645/646, Train Loss: 3.188, Train Accuracy: 10.430\n",
            "Epoch 9/10, Iter 645/646, Train Loss: 3.188, Train Accuracy: 10.457\n"
          ]
        }
      ],
      "source": [
        "model = Net(input_embedding_size = 256, hidden_size = 512).to(device)\n",
        "optimizer = torch.optim.Adam(model.parameters(), lr=0.005)\n",
        "criterion = nn.CrossEntropyLoss()\n",
        "epochs = 10\n",
        "\n",
        "losses = []\n",
        "accuracies = []\n",
        "\n",
        "for epoch in range(epochs):\n",
        "    epoch_loss, epoch_acc = train(model, optimizer, criterion, epoch)\n",
        "    losses.append(epoch_loss)\n",
        "    accuracies.append(epoch_acc)"
      ]
    },
    {
      "cell_type": "code",
      "execution_count": 489,
      "metadata": {
        "id": "5_XQxgyKPgot"
      },
      "outputs": [
        {
          "data": {
            "text/plain": [
              "Text(0.5, 1.0, 'Loss Curve')"
            ]
          },
          "execution_count": 489,
          "metadata": {},
          "output_type": "execute_result"
        },
        {
          "data": {
            "image/png": "[encoded data removed]",
            "text/plain": [
              "<Figure size 640x480 with 1 Axes>"
            ]
          },
          "metadata": {},
          "output_type": "display_data"
        }
      ],
      "source": [
        "plt.plot(losses)\n",
        "plt.xlabel('epoch')\n",
        "plt.ylabel('loss')\n",
        "plt.title('Loss Curve')"
      ]
    },
    {
      "cell_type": "code",
      "execution_count": 490,
      "metadata": {
        "id": "WWmkR2e3Pgot"
      },
      "outputs": [
        {
          "data": {
            "text/plain": [
              "Text(0.5, 1.0, 'Accuracy Curve')"
            ]
          },
          "execution_count": 490,
          "metadata": {},
          "output_type": "execute_result"
        },
        {
          "data": {
            "image/png": "[encoded data removed]",
            "text/plain": [
              "<Figure size 640x480 with 1 Axes>"
            ]
          },
          "metadata": {},
          "output_type": "display_data"
        }
      ],
      "source": [
        "plt.plot(accuracies)\n",
        "plt.xlabel('epoch')\n",
        "plt.ylabel('accuracy')\n",
        "plt.title('Accuracy Curve')"
      ]
    },
    {
      "cell_type": "code",
      "execution_count": 493,
      "metadata": {
        "id": "urhr5KKSPgot"
      },
      "outputs": [
        {
          "name": "stderr",
          "output_type": "stream",
          "text": [
            "100%|██████████| 132/132 [00:04<00:00, 27.16it/s]\n"
          ]
        },
        {
          "name": "stdout",
          "output_type": "stream",
          "text": [
            "Test Accuracy: 11.638\n"
          ]
        },
        {
          "name": "stderr",
          "output_type": "stream",
          "text": [
            "100%|██████████| 132/132 [00:04<00:00, 28.61it/s]"
          ]
        },
        {
          "name": "stdout",
          "output_type": "stream",
          "text": [
            "Top 5 Test Accuracy: 27.101\n"
          ]
        },
        {
          "name": "stderr",
          "output_type": "stream",
          "text": [
            "\n"
          ]
        }
      ],
      "source": [
        "model.eval()\n",
        "correct = 0\n",
        "total = 0\n",
        "with torch.no_grad():\n",
        "    for inputs, targets in tqdm(test_loader):\n",
        "        inputs, targets = inputs.to(device), targets.to(device)\n",
        "        outputs = model(inputs)\n",
        "        _, predicted = outputs.max(1)\n",
        "        total += targets.size(0)\n",
        "        correct += predicted.eq(targets).sum().item()\n",
        "\n",
        "acc = 100.*correct/total\n",
        "print('Test Accuracy: {:.3f}'.format(acc))\n",
        "top5_acc = 0\n",
        "with torch.no_grad():\n",
        "    for inputs, targets in tqdm(test_loader):\n",
        "        inputs, targets = inputs.to(device), targets.to(device)\n",
        "        outputs = model(inputs)\n",
        "        _, predicted = outputs.topk(5, 1, True, True)\n",
        "        total += targets.size(0)\n",
        "        correct += torch.sum(predicted.eq(targets.view(-1, 1)))\n",
        "top5_acc = 100.*correct/total\n",
        "print('Top 5 Test Accuracy: {:.3f}'.format(top5_acc))"
      ]
    },
    {
      "cell_type": "code",
      "execution_count": 492,
      "metadata": {
        "id": "tR1eN_bwPgou"
      },
      "outputs": [
        {
          "name": "stdout",
          "output_type": "stream",
          "text": [
            "<start> it's just me so i will need <number> seat <end> <pad> <pad> <pad> <pad> <pad> <pad> <pad> <pad> <pad> <pad> <pad> <pad> <pad> <pad> <pad> <pad> <pad> <pad> <pad> <pad> <pad> <pad> <pad> <pad> <pad> <pad> <pad> <pad> <pad> <pad> <pad> <pad> <pad> <pad> <pad> <pad> <pad> <pad> <pad> <pad> <pad> <pad> <pad> <pad> <pad> <pad> <pad> <pad> <pad> <pad> <pad> <pad> <pad> <pad> <pad> <pad> <pad> <pad> <pad> <pad> <pad> <pad> <pad> <pad> <pad> <pad> <pad> <pad> <pad> <pad> <pad> <pad> <pad> <pad> <pad> <pad> <pad> <pad> <pad> <pad> <pad> <pad> <pad> <pad> <pad> <pad> <pad> <pad> <pad>\n",
            "-------------------\n",
            "index 19 (SYSTEM_REQUEST) is predicted with a probability of 0.1092485710978508\n",
            "True label is USER_INFORM\n",
            "-------------------\n",
            "Top 5 predictions with probabilities:\n",
            "SYSTEM_REQUEST: 0.109\n",
            "USER_INFORM: 0.097\n",
            "SYSTEM_CONFIRM: 0.066\n",
            "SYSTEM_OFFER: 0.065\n",
            "SYSTEM_GOODBYE: 0.062\n"
          ]
        }
      ],
      "source": [
        "sample = inputs[5]\n",
        "sentence = ' '.join([rev_word_map[w] for w in sample.tolist()])\n",
        "print(sentence)\n",
        "print(\"-------------------\")\n",
        "\n",
        "output = model(sample.unsqueeze(0))\n",
        "prob, pred = F.softmax(output, dim = -1).max(1)\n",
        "\n",
        "print('index {} ({}) is predicted with a probability of {}'.format(pred.item(), inv_acts_labels[pred.item()], prob.item()))\n",
        "print('True label is {}'.format(inv_acts_labels[targets[5].item()]))\n",
        "print(\"-------------------\")\n",
        "\n",
        "all_probs = F.softmax(output, dim = -1)\n",
        "\n",
        "predictions_with_probs = [(inv_acts_labels[i], p.item()) for i, p in enumerate(all_probs[0])]\n",
        "# for pred, prob in predictions_with_probs:\n",
        "#     print(f\"{pred}: {prob:.3f}\")\n",
        "\n",
        "# Top 5 predictions and top 5 accuracy\n",
        "top_5_preds = all_probs.topk(5)\n",
        "top_5_preds_indices = top_5_preds.indices[0]\n",
        "top_5_preds_probs = top_5_preds.values[0]\n",
        "top_5_preds_with_probs = [(inv_acts_labels[i.item()], p.item()) for i, p in zip(top_5_preds_indices, top_5_preds_probs)]\n",
        "\n",
        "print(\"Top 5 predictions with probabilities:\")\n",
        "for pred, prob in top_5_preds_with_probs:\n",
        "    print(f\"{pred}: {prob:.3f}\")"
      ]
    }
  ],
  "metadata": {
    "colab": {
      "provenance": []
    },
    "kernelspec": {
      "display_name": "multibench",
      "language": "python",
      "name": "python3"
    },
    "language_info": {
      "codemirror_mode": {
        "name": "ipython",
        "version": 3
      },
      "file_extension": ".py",
      "mimetype": "text/x-python",
      "name": "python",
      "nbconvert_exporter": "python",
      "pygments_lexer": "ipython3",
      "version": "3.12.3"
    }
  },
  "nbformat": 4,
  "nbformat_minor": 0
}
