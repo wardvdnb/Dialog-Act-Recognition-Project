{
  "cells": [
    {
      "cell_type": "markdown",
      "metadata": {
        "id": "2pyPsk-EPgog"
      },
      "source": [
        "## Challenge: A deep dive into Dialogue Act Recognition\n",
        "**By**: *Ward Van den Bossche*, **Student ID**: *0605083*"
      ]
    },
    {
      "cell_type": "code",
      "source": [
        "from google.colab import drive\n",
        "drive.mount('/content/drive')\n",
        "USING_COLAB = True"
      ],
      "metadata": {
        "id": "SHNnpwbqPo4C",
        "outputId": "fc670e43-7890-49be-d145-60ce6fe90de0",
        "colab": {
          "base_uri": "https://localhost:8080/"
        }
      },
      "execution_count": 41,
      "outputs": [
        {
          "output_type": "stream",
          "name": "stdout",
          "text": [
            "Drive already mounted at /content/drive; to attempt to forcibly remount, call drive.mount(\"/content/drive\", force_remount=True).\n"
          ]
        }
      ]
    },
    {
      "cell_type": "markdown",
      "metadata": {
        "id": "trE5xCcbPgok"
      },
      "source": [
        "\"The Schema-Guided Dialogue (SGD) dataset consists of over 20k annotated multi-domain, task-oriented conversations between a human and a virtual assistant\" (https://github.com/google-research-datasets/dstc8-schema-guided-dialogue) It pertains to different domains like banking and weather. In addition to a training and test set, there is also a crowdfunded variant dataset (SGD-X) that can be used to test a model's generalization capabilities to real-world settings.  What's interesting for this project is the dialogue act annotations, which are defined for both system and user. Some possible values include: INFORM, REQUEST, CONFIRM. A complete list can be found on the dataset's github README.md file."
      ]
    },
    {
      "cell_type": "code",
      "execution_count": 42,
      "metadata": {
        "id": "39IWJk_QPgol"
      },
      "outputs": [],
      "source": [
        "import os\n",
        "import matplotlib.pyplot as plt\n",
        "from collections import Counter\n",
        "import torch\n",
        "import pandas as pd\n",
        "import json\n",
        "import pickle\n",
        "import torch.utils.data\n",
        "from tqdm import tqdm\n",
        "import math\n",
        "import torch.nn as nn\n",
        "import torch.nn.functional as F\n",
        "import torch.optim\n",
        "import numpy as np\n",
        "device = torch.device(\"cuda\" if torch.cuda.is_available() else \"cpu\")"
      ]
    },
    {
      "cell_type": "code",
      "execution_count": 43,
      "metadata": {
        "id": "vEw96z0ePgom"
      },
      "outputs": [],
      "source": [
        "if USING_COLAB:\n",
        "  path_to_dataset = os.path.join(os.getcwd(), \"drive\", \"MyDrive\", \"Current Trends VUB\", \"dstc8-schema-guided-dialogue-master\")\n",
        "else:\n",
        "  path_to_dataset = os.path.join(os.getcwd(), \"dstc8-schema-guided-dialogue-master\")\n",
        "path_to_train = os.path.join(path_to_dataset, \"train\")\n",
        "path_to_test = os.path.join(path_to_dataset, \"test\")\n",
        "train_files = [os.path.join(path_to_train, file) for file in os.listdir(path_to_train) if not file.startswith(\"schema.json\")]\n",
        "test_files = [os.path.join(path_to_test, file) for file in os.listdir(path_to_test) if not file.startswith(\"schema.json\")]"
      ]
    },
    {
      "cell_type": "markdown",
      "metadata": {
        "id": "fZOpZcbjPgom"
      },
      "source": [
        "### Implementation 1: Simple RNN\n",
        "\n",
        "For the first implementation we'll implement a simple RNN on the utterances of this dataset, at inference time the user can then input an utterance and have the system return a dialogue act predicted by the neural network."
      ]
    },
    {
      "cell_type": "markdown",
      "metadata": {
        "id": "DKlWK6J2Pgon"
      },
      "source": [
        "#### Preprocessing\n",
        "The preprocessing step involves extracting all utterances from the.json files, together with their dialogue acts, which will be used as \"labels\" in our prediction task. In addition to this, the speaker can be USER or SYSTEM, this information will be encoded in a separate token."
      ]
    },
    {
      "cell_type": "code",
      "execution_count": 44,
      "metadata": {
        "id": "ZfX5fa3BPgon"
      },
      "outputs": [],
      "source": [
        "def extract_utterances_and_acts(train_files):\n",
        "    all_data = []\n",
        "    for filepath in train_files:\n",
        "        with open(filepath, 'r') as f:\n",
        "            data = json.load(f)\n",
        "            for dialogue in data:\n",
        "                for i, turn in enumerate(dialogue['turns']):\n",
        "                    speaker = turn['speaker']\n",
        "                    utterance = turn['utterance']\n",
        "                    acts = set([])\n",
        "                    # accumulate acts accross frames and actions\n",
        "                    for frame in turn['frames']:\n",
        "                        for action in frame['actions']:\n",
        "                            acts.add(action['act'])\n",
        "                    all_data.append({\n",
        "                        'speaker': speaker,\n",
        "                        'utterance': utterance,\n",
        "                        'act': list(acts)\n",
        "                    })\n",
        "    return all_data\n",
        "\n",
        "extracted_train = extract_utterances_and_acts(train_files)\n",
        "extracted_test = extract_utterances_and_acts(test_files)"
      ]
    },
    {
      "cell_type": "code",
      "execution_count": 45,
      "metadata": {
        "id": "kg0T07ZMPgoo"
      },
      "outputs": [],
      "source": [
        "found_system_acts = [act for dialogue in extracted_train for act in dialogue['act'] if dialogue['speaker'] == 'SYSTEM']\n",
        "found_user_acts = [act for dialogue in extracted_train for act in dialogue['act'] if dialogue['speaker'] == 'USER']\n",
        "\n",
        "system_acts = [\n",
        "    \"INFORM\",\n",
        "    \"REQUEST\",\n",
        "    \"CONFIRM\",\n",
        "    \"OFFER\",\n",
        "    \"NOTIFY_SUCCESS\",\n",
        "    \"NOTIFY_FAILURE\",\n",
        "    \"INFORM_COUNT\",\n",
        "    \"OFFER_INTENT\",\n",
        "    \"REQ_MORE\",\n",
        "    \"GOODBYE\"\n",
        "]\n",
        "\n",
        "user_acts = [\n",
        "    \"INFORM_INTENT\",\n",
        "    \"NEGATE_INTENT\",\n",
        "    \"AFFIRM_INTENT\",\n",
        "    \"INFORM\",\n",
        "    \"REQUEST\",\n",
        "    \"AFFIRM\",\n",
        "    \"NEGATE\",\n",
        "    \"SELECT\",\n",
        "    \"REQUEST_ALTS\",\n",
        "    \"THANK_YOU\",\n",
        "    \"GOODBYE\"\n",
        "]\n",
        "\n",
        "assert(set(found_system_acts) == set(system_acts)\n",
        "        and set(found_user_acts) == set(user_acts)),  \"The found acts and theoretical ones don't match up\" # Sanity check"
      ]
    },
    {
      "cell_type": "code",
      "execution_count": 46,
      "metadata": {
        "id": "QguqFbvfPgoo"
      },
      "outputs": [],
      "source": [
        "acts = [\n",
        "    \"SYSTEM_INFORM\", # differentiate between user and system INFORM/REQUEST/GOODBYE, rest is unique to speaker\n",
        "    \"SYSTEM_REQUEST\",\n",
        "    \"CONFIRM\",\n",
        "    \"OFFER\",\n",
        "    \"NOTIFY_SUCCESS\",\n",
        "    \"NOTIFY_FAILURE\",\n",
        "    \"INFORM_COUNT\",\n",
        "    \"OFFER_INTENT\",\n",
        "    \"REQ_MORE\",\n",
        "    \"SYSTEM_GOODBYE\",\n",
        "    \"INFORM_INTENT\",\n",
        "    \"NEGATE_INTENT\",\n",
        "    \"AFFIRM_INTENT\",\n",
        "    \"USER_INFORM\",\n",
        "    \"USER_REQUEST\",\n",
        "    \"AFFIRM\",\n",
        "    \"NEGATE\",\n",
        "    \"SELECT\",\n",
        "    \"REQUEST_ALTS\",\n",
        "    \"THANK_YOU\",\n",
        "    \"USER_GOODBYE\"\n",
        "]\n",
        "\n",
        "# Define which acts need speaker prefixing\n",
        "shared_acts = {\n",
        "    'INFORM': {'USER': 'USER_INFORM', 'SYSTEM': 'SYSTEM_INFORM'},\n",
        "    'REQUEST': {'USER': 'USER_REQUEST', 'SYSTEM': 'SYSTEM_REQUEST'},\n",
        "    'GOODBYE': {'USER': 'USER_GOODBYE', 'SYSTEM': 'SYSTEM_GOODBYE'}\n",
        "}\n",
        "\n",
        "def get_prefixed_act(act, speaker):\n",
        "    \"\"\"Maps an act to its speaker-specific version if needed\"\"\"\n",
        "    if act in shared_acts:\n",
        "        if speaker not in ('USER', 'SYSTEM'):\n",
        "            raise ValueError(f\"Invalid speaker: {speaker}\")\n",
        "        return shared_acts[act][speaker]\n",
        "    return act\n",
        "\n",
        "\n",
        "\n",
        "\n",
        "acts_labels = {acts[i] : i for i in range(len(acts))}\n",
        "inv_acts_labels = {v: k for k, v in acts_labels.items()}\n",
        "# Modified code for processing turns\n",
        "label_train = [\n",
        "    [acts_labels[get_prefixed_act(act, turn['speaker'])]\n",
        "     for act in turn['act']]\n",
        "    for turn in extracted_train\n",
        "]\n",
        "\n",
        "label_test = [\n",
        "    [acts_labels[get_prefixed_act(act, turn['speaker'])]\n",
        "     for act in turn['act']]\n",
        "    for turn in extracted_test\n",
        "]"
      ]
    },
    {
      "cell_type": "code",
      "execution_count": 47,
      "metadata": {
        "id": "catjRbFwPgop"
      },
      "outputs": [],
      "source": [
        "def clean_utterances(extracted_utterances):\n",
        "    utterances = [train_data['utterance'].lower() for train_data in extracted_utterances]\n",
        "    chars_to_erase = ['.', ',', '!'] # question mark might be an indicator for a request act\n",
        "    for char in chars_to_erase:\n",
        "        utterances = [utterance.replace(char, '') for utterance in utterances]\n",
        "    return utterances"
      ]
    },
    {
      "cell_type": "code",
      "execution_count": 48,
      "metadata": {
        "id": "or95CoGlPgoq"
      },
      "outputs": [],
      "source": [
        "utterances_train = clean_utterances(extracted_train)\n",
        "utterances_test = clean_utterances(extracted_test)"
      ]
    },
    {
      "cell_type": "code",
      "execution_count": 49,
      "metadata": {
        "id": "nAOcM29mPgoq"
      },
      "outputs": [],
      "source": [
        "word_freq = Counter()\n",
        "for utterance in utterances_train:\n",
        "    utterance_words = utterance.split()\n",
        "    word_freq.update(utterance_words)"
      ]
    },
    {
      "cell_type": "code",
      "execution_count": 50,
      "metadata": {
        "id": "moVAq3PcPgoq",
        "outputId": "ce03dc39-4490-4ebf-dade-5636e873837d",
        "colab": {
          "base_uri": "https://localhost:8080/",
          "height": 303
        }
      },
      "outputs": [
        {
          "output_type": "display_data",
          "data": {
            "text/plain": [
              "<Figure size 1000x400 with 1 Axes>"
            ],
            "image/png": "[encoded data removed]"
          },
          "metadata": {}
        }
      ],
      "source": [
        "# lets have a look at the top 10 words\n",
        "top_words = [word for word, count in word_freq.most_common(15)]\n",
        "top_frequencies = [count for word, count in word_freq.most_common(15)]\n",
        "\n",
        "# Create a bar plot for the top 5 words\n",
        "plt.figure(figsize=(10,4))\n",
        "plt.bar(top_words, top_frequencies)\n",
        "plt.xlabel(\"Words\")\n",
        "plt.ylabel(\"Frequency\")\n",
        "plt.title(\"Top 15 Words Frequency Histogram\")\n",
        "plt.xticks(rotation=45)  # Rotate x-axis labels for better readability\n",
        "plt.tight_layout()\n",
        "plt.show()"
      ]
    },
    {
      "cell_type": "code",
      "execution_count": 51,
      "metadata": {
        "id": "dzE7B3LRPgoq",
        "outputId": "e42430e7-0525-4d2c-d42b-75f8fa8f01b6",
        "colab": {
          "base_uri": "https://localhost:8080/"
        }
      },
      "outputs": [
        {
          "output_type": "stream",
          "name": "stdout",
          "text": [
            "Total words are: 7364\n"
          ]
        }
      ],
      "source": [
        "min_word_freq = 5\n",
        "words = [w for w in word_freq.keys() if word_freq[w] > min_word_freq]\n",
        "word_map = {k: v + 1 for v, k in enumerate(words)}\n",
        "word_map['<unk>'] = len(word_map) + 1\n",
        "word_map['<start>'] = len(word_map) + 1\n",
        "word_map['<end>'] = len(word_map) + 1\n",
        "word_map['<pad>'] = 0\n",
        "rev_word_map = {v: k for k, v in word_map.items()}\n",
        "\n",
        "print(f\"Total words are: {len(word_map)}\")"
      ]
    },
    {
      "cell_type": "code",
      "execution_count": 52,
      "metadata": {
        "id": "9yfvaXlaPgor"
      },
      "outputs": [],
      "source": [
        "def encode_text(data, max_len):\n",
        "    \"\"\"\n",
        "    Assign a numerical value (0 to len(word_map)) to each word in the\n",
        "    utterance\n",
        "    \"\"\"\n",
        "    encoded_texts = []\n",
        "    for utterance in data:\n",
        "        utterance_words = utterance.lower().split()\n",
        "        # Account for <start> and <end> tokens in max_len\n",
        "        words = utterance_words[:(max_len-2)]  # -2 to make room for start/end\n",
        "        # Add start and end tokens\n",
        "        tokenized = [word_map['<start>']] + \\\n",
        "                [word_map.get(word, word_map['<unk>']) for word in words] + \\\n",
        "                [word_map['<end>']] + \\\n",
        "                [word_map['<pad>']] * (max_len - len(words) - 2)  # -2 for start/end\n",
        "        encoded_texts.append(tokenized)\n",
        "    return encoded_texts"
      ]
    },
    {
      "cell_type": "code",
      "execution_count": 53,
      "metadata": {
        "id": "6SBir4YTPgor"
      },
      "outputs": [],
      "source": [
        "encoded_texts = encode_text(utterances_train, max_len = 100)\n",
        "encoded_texts_test = encode_text(utterances_test, max_len = 100)"
      ]
    },
    {
      "cell_type": "code",
      "execution_count": 54,
      "metadata": {
        "id": "ElC4E7mbPgor",
        "outputId": "ee811b7a-2d63-4cf5-ecc5-673a6346e0e2",
        "colab": {
          "base_uri": "https://localhost:8080/"
        }
      },
      "outputs": [
        {
          "output_type": "stream",
          "name": "stdout",
          "text": [
            "<start> please help me find a bus <end> <pad> <pad> <pad> <pad> <pad> <pad> <pad> <pad> <pad> <pad> <pad> <pad> <pad> <pad> <pad> <pad> <pad> <pad> <pad> <pad> <pad> <pad> <pad> <pad> <pad> <pad> <pad> <pad> <pad> <pad> <pad> <pad> <pad> <pad> <pad> <pad> <pad> <pad> <pad> <pad> <pad> <pad> <pad> <pad> <pad> <pad> <pad> <pad> <pad> <pad> <pad> <pad> <pad> <pad> <pad> <pad> <pad> <pad> <pad> <pad> <pad> <pad> <pad> <pad> <pad> <pad> <pad> <pad> <pad> <pad> <pad> <pad> <pad> <pad> <pad> <pad> <pad> <pad> <pad> <pad> <pad> <pad> <pad> <pad> <pad> <pad> <pad> <pad> <pad> <pad> <pad> <pad>\n"
          ]
        }
      ],
      "source": [
        "# test one sample\n",
        "example_tokens = encoded_texts[0]\n",
        "print(\" \".join([rev_word_map[t] for t in example_tokens]))"
      ]
    },
    {
      "cell_type": "markdown",
      "metadata": {
        "id": "9NWKUVNtPgor"
      },
      "source": [
        "#### Dataset and Data Loaders"
      ]
    },
    {
      "cell_type": "code",
      "execution_count": 55,
      "metadata": {
        "id": "3l9TiDYaPgos"
      },
      "outputs": [],
      "source": [
        "# Assuming label_train and label_test are lists of lists of indices\n",
        "# Convert to one-hot encoding since it's multi-label (one utterance can have multiple acts)\n",
        "num_classes = len(acts)\n",
        "\n",
        "# Create one-hot encoded tensors\n",
        "y_train = torch.zeros((len(label_train), num_classes))\n",
        "for i, labels in enumerate(label_train):\n",
        "    y_train[i, labels] = 1\n",
        "\n",
        "y_test = torch.zeros((len(label_test), num_classes))\n",
        "for i, labels in enumerate(label_test):\n",
        "    y_test[i, labels] = 1\n",
        "\n",
        "X_train = torch.tensor(encoded_texts)    # (number_of_samples, max_length)\n",
        "X_test = torch.tensor(encoded_texts_test)\n",
        "\n",
        "# Create datasets and dataloaders\n",
        "train_dataset = torch.utils.data.TensorDataset(X_train, y_train)\n",
        "train_loader = torch.utils.data.DataLoader(train_dataset,\n",
        "                                         batch_size=128,\n",
        "                                         shuffle=True)\n",
        "\n",
        "test_dataset = torch.utils.data.TensorDataset(X_test, y_test)\n",
        "test_loader = torch.utils.data.DataLoader(test_dataset,\n",
        "                                        batch_size=128,\n",
        "                                        shuffle=True)"
      ]
    },
    {
      "cell_type": "markdown",
      "metadata": {
        "id": "GrZIf4ARPgos"
      },
      "source": [
        "RNN Network defined by:\n",
        "\n",
        "$h_t= \\tanh \\left(W_h \\cdot\\left[h_{t-1}, x_t\\right]+b_i\\right)$ <br>"
      ]
    },
    {
      "cell_type": "code",
      "execution_count": 56,
      "metadata": {
        "id": "ijgtNYhoPgos"
      },
      "outputs": [],
      "source": [
        "class RNN(nn.Module):\n",
        "    def __init__(self, input_sz, hidden_sz):\n",
        "        super(RNN, self).__init__()\n",
        "        self.input_size = input_sz\n",
        "        self.hidden_size = hidden_sz\n",
        "\n",
        "        self.W_h = nn.Linear(input_sz + hidden_sz, hidden_sz)\n",
        "\n",
        "    def forward(self, x):\n",
        "        batch_size, seq_len, embed_dim = x.size()\n",
        "\n",
        "        h_t, c_t = (torch.zeros(batch_size, self.hidden_size).to(device),\n",
        "                    torch.zeros(batch_size, self.hidden_size).to(device))\n",
        "\n",
        "        hidden_states = []\n",
        "\n",
        "        for t in range(seq_len):\n",
        "            x_t = x[:, t, :]\n",
        "            common_input = torch.cat([x_t, h_t], dim=-1)\n",
        "            h_t = torch.tanh(self.W_h(common_input))\n",
        "            hidden_states.append(h_t.unsqueeze(1))\n",
        "\n",
        "        hidden_states = torch.cat(hidden_states, dim=1)\n",
        "\n",
        "        return hidden_states"
      ]
    },
    {
      "cell_type": "code",
      "execution_count": 63,
      "metadata": {
        "id": "Ikttfh0NPgos"
      },
      "outputs": [],
      "source": [
        "class Net(nn.Module):\n",
        "\n",
        "    def __init__(self, input_embedding_size, hidden_size, num_classes,\n",
        "                 pooling_type = 'last_hidden_state'):\n",
        "\n",
        "        super().__init__()\n",
        "\n",
        "        self.embedding = nn.Embedding(len(word_map), input_embedding_size)\n",
        "        self.rnn = RNN(input_embedding_size, hidden_size)\n",
        "        # Add output layer for multi-label classification\n",
        "        self.classifier = nn.Linear(hidden_size, num_classes)\n",
        "        self.pooling_type = pooling_type\n",
        "\n",
        "    def forward(self, x):\n",
        "\n",
        "        # x is of shape (batch_size, max_seq_length)\n",
        "        x = self.embedding(x)   # (batch_size, seq_len, embed_dim)\n",
        "        x = self.rnn(x)         # (batch_size, seq_len, hidden_size)\n",
        "\n",
        "        if self.pooling_type == \"last_hidden_state\":\n",
        "            x = x[:, -1, :]     # (batch_size, hidden_size)\n",
        "        else:\n",
        "            x = x.mean(1)       # (batch_size, hidden_size)\n",
        "\n",
        "        # Output logits for each class (don't apply sigmoid here)\n",
        "        x = self.classifier(x) # (batch_size, num_classes) ?\n",
        "\n",
        "        return x\n",
        "\n",
        "    def predict(self, x, threshold=0.5):\n",
        "        \"\"\"Helper method for inference\"\"\"\n",
        "        logits = self.forward(x)\n",
        "        probs = torch.sigmoid(logits)\n",
        "        return (probs > threshold).float()"
      ]
    },
    {
      "cell_type": "code",
      "execution_count": 64,
      "metadata": {
        "id": "EkRnW_NFPgos"
      },
      "outputs": [],
      "source": [
        "# Initialize\n",
        "model = Net(\n",
        "    input_embedding_size=256,  # Your embedding dimension\n",
        "    hidden_size=512,          # Hidden size of your choice\n",
        "    num_classes=len(acts)   # Number of dialogue acts\n",
        ").to(device)\n",
        "\n",
        "# Loss function for multi-label classification\n",
        "criterion = nn.BCEWithLogitsLoss()\n",
        "\n",
        "# Training loop example\n",
        "optimizer = torch.optim.Adam(model.parameters())\n",
        "epochs = 10"
      ]
    },
    {
      "cell_type": "code",
      "source": [
        "# prompt: run a test through the model\n",
        "\n",
        "# Example usage of the model's predict method\n",
        "# Assuming you have a test input tensor 'test_input'\n",
        "# and the model is loaded and in evaluation mode\n",
        "\n",
        "# Example test input (replace with your actual test data)\n",
        "test_input = X_test[:10].to(device)  # Use the first 10 samples from the test set\n",
        "\n",
        "\n",
        "with torch.no_grad(): # Inference\n",
        "  model.eval() # Set to evaluation mode\n",
        "  predictions = model.predict(test_input)\n",
        "\n",
        "# Print predictions (example)\n",
        "print(predictions.shape)\n",
        "\n",
        "# Get predicted labels\n",
        "predicted_labels = torch.nonzero(predictions)\n"
      ],
      "metadata": {
        "id": "3A3zVazWklma",
        "outputId": "8e1bd937-8f41-4000-8dda-5a0871469ffe",
        "colab": {
          "base_uri": "https://localhost:8080/"
        }
      },
      "execution_count": 70,
      "outputs": [
        {
          "output_type": "stream",
          "name": "stdout",
          "text": [
            "torch.Size([10, 21])\n"
          ]
        }
      ]
    },
    {
      "cell_type": "code",
      "execution_count": 71,
      "metadata": {
        "id": "IJdxYdH5Pgos"
      },
      "outputs": [],
      "source": [
        "def train(epoch):\n",
        "    model.train()\n",
        "    train_loss = 0\n",
        "    total = 0\n",
        "    # For multi-label, we'll track f1 score instead of simple accuracy\n",
        "    all_predictions = []\n",
        "    all_targets = []\n",
        "\n",
        "    for batch_idx, (inputs, targets) in enumerate(train_loader):\n",
        "        inputs = inputs.to(device)\n",
        "        targets = targets.to(device)\n",
        "\n",
        "        optimizer.zero_grad()\n",
        "        outputs = model(inputs)\n",
        "        loss = criterion(outputs, targets)\n",
        "        loss.backward()\n",
        "        optimizer.step()\n",
        "\n",
        "        # Keep track of loss and predictions\n",
        "        train_loss += loss.item()\n",
        "        predictions = (torch.sigmoid(outputs) > 0.5).float()\n",
        "\n",
        "        all_predictions.extend(predictions.cpu().numpy())\n",
        "        all_targets.extend(targets.cpu().numpy())\n",
        "        total += targets.size(0)\n",
        "\n",
        "    epoch_loss = train_loss / (batch_idx + 1)\n",
        "    # Calculate micro-F1 score\n",
        "    f1 = f1_score(np.array(all_targets), np.array(all_predictions), average='micro')\n",
        "\n",
        "    print(f'Epoch {epoch}/{epochs}, Train Loss: {epoch_loss:.3f}, Train F1: {f1:.3f}')\n",
        "    return epoch_loss, f1\n",
        "\n",
        "# Testing\n",
        "def test():\n",
        "    model.eval()\n",
        "    all_predictions = []\n",
        "    all_targets = []\n",
        "    test_loss = 0\n",
        "\n",
        "    with torch.no_grad():\n",
        "        for batch_idx, (inputs, targets) in enumerate(tqdm(test_loader)):\n",
        "            inputs, targets = inputs.to(device), targets.to(device)\n",
        "            outputs = model(inputs)\n",
        "            loss = criterion(outputs, targets)\n",
        "            test_loss += loss.item()\n",
        "\n",
        "            predictions = (torch.sigmoid(outputs) > 0.5).float()\n",
        "            all_predictions.extend(predictions.cpu().numpy())\n",
        "            all_targets.extend(targets.cpu().numpy())\n",
        "\n",
        "    test_loss = test_loss / (batch_idx + 1)\n",
        "    f1 = f1_score(np.array(all_targets), np.array(all_predictions), average='micro')\n",
        "\n",
        "    print(f'Test Loss: {test_loss:.3f}, Test F1: {f1:.3f}')\n",
        "    return test_loss, f1\n",
        "\n",
        "# Inference on a single example\n",
        "def inference_example(sample_idx=5):\n",
        "    model.eval()\n",
        "    sample = X_test[sample_idx].unsqueeze(0).to(device)\n",
        "\n",
        "    # Get the original sentence\n",
        "    sentence = ' '.join([rev_word_map[w] for w in X_test[sample_idx].tolist()])\n",
        "    print(f'Input sentence: {sentence}')\n",
        "\n",
        "    # Get predictions\n",
        "    with torch.no_grad():\n",
        "        output = model(sample)\n",
        "        probs = torch.sigmoid(output)[0]\n",
        "        predictions = (probs > 0.5).float()\n",
        "\n",
        "    # Print all predicted acts with their probabilities\n",
        "    print('\\nPredicted dialogue acts:')\n",
        "    for act_idx, (prob, is_predicted) in enumerate(zip(probs, predictions)):\n",
        "        if is_predicted:\n",
        "            act_name = inv_acts_labels[act_idx]\n",
        "            print(f'{act_name}: {prob.item():.3f}')\n",
        "\n",
        "# You'll need these imports\n",
        "from sklearn.metrics import f1_score\n",
        "import numpy as np"
      ]
    },
    {
      "cell_type": "code",
      "execution_count": 72,
      "metadata": {
        "id": "1FH-A0rsPgot",
        "outputId": "7969178f-4dbd-4c04-ec45-92ded48b99fe",
        "colab": {
          "base_uri": "https://localhost:8080/",
          "height": 400
        }
      },
      "outputs": [
        {
          "output_type": "error",
          "ename": "KeyboardInterrupt",
          "evalue": "",
          "traceback": [
            "\u001b[0;31m---------------------------------------------------------------------------\u001b[0m",
            "\u001b[0;31mKeyboardInterrupt\u001b[0m                         Traceback (most recent call last)",
            "\u001b[0;32m<ipython-input-72-0007cd8c2b30>\u001b[0m in \u001b[0;36m<cell line: 0>\u001b[0;34m()\u001b[0m\n\u001b[1;32m      1\u001b[0m \u001b[0;31m# Training\u001b[0m\u001b[0;34m\u001b[0m\u001b[0;34m\u001b[0m\u001b[0m\n\u001b[1;32m      2\u001b[0m \u001b[0;32mfor\u001b[0m \u001b[0mepoch\u001b[0m \u001b[0;32min\u001b[0m \u001b[0mrange\u001b[0m\u001b[0;34m(\u001b[0m\u001b[0mepochs\u001b[0m\u001b[0;34m)\u001b[0m\u001b[0;34m:\u001b[0m\u001b[0;34m\u001b[0m\u001b[0;34m\u001b[0m\u001b[0m\n\u001b[0;32m----> 3\u001b[0;31m     \u001b[0mtrain_loss\u001b[0m\u001b[0;34m,\u001b[0m \u001b[0mtrain_f1\u001b[0m \u001b[0;34m=\u001b[0m \u001b[0mtrain\u001b[0m\u001b[0;34m(\u001b[0m\u001b[0mepoch\u001b[0m\u001b[0;34m)\u001b[0m\u001b[0;34m\u001b[0m\u001b[0;34m\u001b[0m\u001b[0m\n\u001b[0m\u001b[1;32m      4\u001b[0m \u001b[0;34m\u001b[0m\u001b[0m\n\u001b[1;32m      5\u001b[0m \u001b[0;31m# Testing\u001b[0m\u001b[0;34m\u001b[0m\u001b[0;34m\u001b[0m\u001b[0m\n",
            "\u001b[0;32m<ipython-input-71-672964409699>\u001b[0m in \u001b[0;36mtrain\u001b[0;34m(epoch)\u001b[0m\n\u001b[1;32m     14\u001b[0m         \u001b[0moutputs\u001b[0m \u001b[0;34m=\u001b[0m \u001b[0mmodel\u001b[0m\u001b[0;34m(\u001b[0m\u001b[0minputs\u001b[0m\u001b[0;34m)\u001b[0m\u001b[0;34m\u001b[0m\u001b[0;34m\u001b[0m\u001b[0m\n\u001b[1;32m     15\u001b[0m         \u001b[0mloss\u001b[0m \u001b[0;34m=\u001b[0m \u001b[0mcriterion\u001b[0m\u001b[0;34m(\u001b[0m\u001b[0moutputs\u001b[0m\u001b[0;34m,\u001b[0m \u001b[0mtargets\u001b[0m\u001b[0;34m)\u001b[0m\u001b[0;34m\u001b[0m\u001b[0;34m\u001b[0m\u001b[0m\n\u001b[0;32m---> 16\u001b[0;31m         \u001b[0mloss\u001b[0m\u001b[0;34m.\u001b[0m\u001b[0mbackward\u001b[0m\u001b[0;34m(\u001b[0m\u001b[0;34m)\u001b[0m\u001b[0;34m\u001b[0m\u001b[0;34m\u001b[0m\u001b[0m\n\u001b[0m\u001b[1;32m     17\u001b[0m         \u001b[0moptimizer\u001b[0m\u001b[0;34m.\u001b[0m\u001b[0mstep\u001b[0m\u001b[0;34m(\u001b[0m\u001b[0;34m)\u001b[0m\u001b[0;34m\u001b[0m\u001b[0;34m\u001b[0m\u001b[0m\n\u001b[1;32m     18\u001b[0m \u001b[0;34m\u001b[0m\u001b[0m\n",
            "\u001b[0;32m/usr/local/lib/python3.11/dist-packages/torch/_tensor.py\u001b[0m in \u001b[0;36mbackward\u001b[0;34m(self, gradient, retain_graph, create_graph, inputs)\u001b[0m\n\u001b[1;32m    579\u001b[0m                 \u001b[0minputs\u001b[0m\u001b[0;34m=\u001b[0m\u001b[0minputs\u001b[0m\u001b[0;34m,\u001b[0m\u001b[0;34m\u001b[0m\u001b[0;34m\u001b[0m\u001b[0m\n\u001b[1;32m    580\u001b[0m             )\n\u001b[0;32m--> 581\u001b[0;31m         torch.autograd.backward(\n\u001b[0m\u001b[1;32m    582\u001b[0m             \u001b[0mself\u001b[0m\u001b[0;34m,\u001b[0m \u001b[0mgradient\u001b[0m\u001b[0;34m,\u001b[0m \u001b[0mretain_graph\u001b[0m\u001b[0;34m,\u001b[0m \u001b[0mcreate_graph\u001b[0m\u001b[0;34m,\u001b[0m \u001b[0minputs\u001b[0m\u001b[0;34m=\u001b[0m\u001b[0minputs\u001b[0m\u001b[0;34m\u001b[0m\u001b[0;34m\u001b[0m\u001b[0m\n\u001b[1;32m    583\u001b[0m         )\n",
            "\u001b[0;32m/usr/local/lib/python3.11/dist-packages/torch/autograd/__init__.py\u001b[0m in \u001b[0;36mbackward\u001b[0;34m(tensors, grad_tensors, retain_graph, create_graph, grad_variables, inputs)\u001b[0m\n\u001b[1;32m    345\u001b[0m     \u001b[0;31m# some Python versions print out the first line of a multi-line function\u001b[0m\u001b[0;34m\u001b[0m\u001b[0;34m\u001b[0m\u001b[0m\n\u001b[1;32m    346\u001b[0m     \u001b[0;31m# calls in the traceback and some print out the last line\u001b[0m\u001b[0;34m\u001b[0m\u001b[0;34m\u001b[0m\u001b[0m\n\u001b[0;32m--> 347\u001b[0;31m     _engine_run_backward(\n\u001b[0m\u001b[1;32m    348\u001b[0m         \u001b[0mtensors\u001b[0m\u001b[0;34m,\u001b[0m\u001b[0;34m\u001b[0m\u001b[0;34m\u001b[0m\u001b[0m\n\u001b[1;32m    349\u001b[0m         \u001b[0mgrad_tensors_\u001b[0m\u001b[0;34m,\u001b[0m\u001b[0;34m\u001b[0m\u001b[0;34m\u001b[0m\u001b[0m\n",
            "\u001b[0;32m/usr/local/lib/python3.11/dist-packages/torch/autograd/graph.py\u001b[0m in \u001b[0;36m_engine_run_backward\u001b[0;34m(t_outputs, *args, **kwargs)\u001b[0m\n\u001b[1;32m    823\u001b[0m         \u001b[0munregister_hooks\u001b[0m \u001b[0;34m=\u001b[0m \u001b[0m_register_logging_hooks_on_whole_graph\u001b[0m\u001b[0;34m(\u001b[0m\u001b[0mt_outputs\u001b[0m\u001b[0;34m)\u001b[0m\u001b[0;34m\u001b[0m\u001b[0;34m\u001b[0m\u001b[0m\n\u001b[1;32m    824\u001b[0m     \u001b[0;32mtry\u001b[0m\u001b[0;34m:\u001b[0m\u001b[0;34m\u001b[0m\u001b[0;34m\u001b[0m\u001b[0m\n\u001b[0;32m--> 825\u001b[0;31m         return Variable._execution_engine.run_backward(  # Calls into the C++ engine to run the backward pass\n\u001b[0m\u001b[1;32m    826\u001b[0m             \u001b[0mt_outputs\u001b[0m\u001b[0;34m,\u001b[0m \u001b[0;34m*\u001b[0m\u001b[0margs\u001b[0m\u001b[0;34m,\u001b[0m \u001b[0;34m**\u001b[0m\u001b[0mkwargs\u001b[0m\u001b[0;34m\u001b[0m\u001b[0;34m\u001b[0m\u001b[0m\n\u001b[1;32m    827\u001b[0m         )  # Calls into the C++ engine to run the backward pass\n",
            "\u001b[0;31mKeyboardInterrupt\u001b[0m: "
          ]
        }
      ],
      "source": [
        "# Training\n",
        "for epoch in range(epochs):\n",
        "    train_loss, train_f1 = train(epoch)\n",
        "\n",
        "# Testing\n",
        "test_loss, test_f1 = test()\n",
        "\n",
        "# Look at a single example\n",
        "inference_example(5)"
      ]
    },
    {
      "cell_type": "code",
      "execution_count": null,
      "metadata": {
        "id": "5_XQxgyKPgot"
      },
      "outputs": [],
      "source": [
        "plt.plot(losses)\n",
        "plt.xlabel('epoch')\n",
        "plt.ylabel('loss')\n",
        "plt.title('Loss Curve')"
      ]
    },
    {
      "cell_type": "code",
      "execution_count": null,
      "metadata": {
        "id": "WWmkR2e3Pgot"
      },
      "outputs": [],
      "source": [
        "plt.plot(accuracies)\n",
        "plt.xlabel('epoch')\n",
        "plt.ylabel('accuracy')\n",
        "plt.title('Accuracy Curve')"
      ]
    },
    {
      "cell_type": "code",
      "execution_count": null,
      "metadata": {
        "id": "urhr5KKSPgot"
      },
      "outputs": [],
      "source": [
        "model.eval()\n",
        "correct = 0\n",
        "total = 0\n",
        "with torch.no_grad():\n",
        "    for inputs, targets in tqdm(test_loader):\n",
        "        inputs, targets = inputs.to(device), targets.to(device)\n",
        "        outputs = model(inputs)\n",
        "        _, predicted = outputs.max(1)\n",
        "        total += targets.size(0)\n",
        "        correct += predicted.eq(targets).sum().item()\n",
        "\n",
        "acc = 100.*correct/total\n",
        "print('Test Accuracy: {:.3f}'.format(acc))"
      ]
    },
    {
      "cell_type": "code",
      "execution_count": null,
      "metadata": {
        "id": "tR1eN_bwPgou"
      },
      "outputs": [],
      "source": [
        "sample = inputs[5]\n",
        "sentence = ' '.join([rev_word_map[w] for w in sample.tolist()])\n",
        "print(sentence)\n",
        "\n",
        "output = model(sample.unsqueeze(0))\n",
        "prob, pred = F.softmax(output, dim = -1).max(1)\n",
        "\n",
        "print('index {} is predicted with a probability of {}'.format(pred.item(), prob.item()))\n",
        "print('index {} is {}'.format(pred.item(), inv_categories_labels[pred.item()]))"
      ]
    }
  ],
  "metadata": {
    "kernelspec": {
      "display_name": "multibench",
      "language": "python",
      "name": "python3"
    },
    "language_info": {
      "codemirror_mode": {
        "name": "ipython",
        "version": 3
      },
      "file_extension": ".py",
      "mimetype": "text/x-python",
      "name": "python",
      "nbconvert_exporter": "python",
      "pygments_lexer": "ipython3",
      "version": "3.12.3"
    },
    "colab": {
      "provenance": []
    }
  },
  "nbformat": 4,
  "nbformat_minor": 0
}