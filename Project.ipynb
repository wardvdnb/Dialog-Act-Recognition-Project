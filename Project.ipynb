{
  "cells": [
    {
      "cell_type": "markdown",
      "metadata": {
        "id": "2pyPsk-EPgog"
      },
      "source": [
        "## Challenge: A deep dive into Dialogue Act Recognition\n",
        "**By**: *Ward Van den Bossche*, **Student ID**: *0605083*"
      ]
    },
    {
      "cell_type": "markdown",
      "metadata": {},
      "source": [
        "**TODO List (after first meeting)**:\n",
        "- Test multi-label classification algorithms (think about other possibilities)\n",
        "- ~~On removing punctuation in tokenization: if it relates to emotion recognition -> exclamations could be relevant~~\n",
        "- Frequency -> if appears too much it might also be redundant (don't provide content) (look into stop word elimination in python)\n",
        "- <unk> token -> look into other solutions?\n",
        "- for single utterances: could also try decision trees, support vector based, Naive bayes , or Hidden Markov Model (HMM) (last 2 mentioned in paper)\n",
        "- ~~feel free to test your approach with whole dataset (study size vs model performance tradeoff)~~\n",
        "- consider how to represent the utterance, might influence classification:\n",
        "    - see in similar papers how they represent utterance\n",
        "    - take a look at paper: \"A Comprehensive Survey of Sentence Representations: From the BERT Epoch to the CHATGPT Era and Beyond\"\n",
        "        see if it's easy to apply (if you find code) how does representation influence the final result\n",
        "- visualize confusion matrix: true vs predicted classes and see where the classifier makes mistakes\n",
        "- Own idea (chatGPT): provide speaker info alongside utterance instead of prepending it to sentence (e.g. give Neural Net 0 for USER, 1 for SYSTEM, and as second argument the utterance)\n"
      ]
    },
    {
      "cell_type": "code",
      "execution_count": 12,
      "metadata": {
        "colab": {
          "base_uri": "https://localhost:8080/"
        },
        "id": "SHNnpwbqPo4C",
        "outputId": "fc670e43-7890-49be-d145-60ce6fe90de0"
      },
      "outputs": [],
      "source": [
        "USING_COLAB = False\n",
        "if USING_COLAB:\n",
        "    from google.colab import drive\n",
        "    drive.mount('/content/drive')"
      ]
    },
    {
      "cell_type": "markdown",
      "metadata": {
        "id": "trE5xCcbPgok"
      },
      "source": [
        "\"The Schema-Guided Dialogue (SGD) dataset consists of over 20k annotated multi-domain, task-oriented conversations between a human and a virtual assistant\" (https://github.com/google-research-datasets/dstc8-schema-guided-dialogue) It pertains to different domains like banking and weather. In addition to a training and test set, there is also a crowdfunded variant dataset (SGD-X) that can be used to test a model's generalization capabilities to real-world settings.  What's interesting for this project is the dialogue act annotations, which are defined for both system and user. Some possible values include: INFORM, REQUEST, CONFIRM. A complete list can be found on the dataset's github README.md file."
      ]
    },
    {
      "cell_type": "code",
      "execution_count": 13,
      "metadata": {
        "id": "39IWJk_QPgol"
      },
      "outputs": [],
      "source": [
        "import os\n",
        "import matplotlib.pyplot as plt\n",
        "from collections import Counter\n",
        "import torch\n",
        "import pandas as pd\n",
        "import json\n",
        "import pickle\n",
        "import torch.utils.data\n",
        "from tqdm import tqdm\n",
        "import math\n",
        "import torch.nn as nn\n",
        "import torch.nn.functional as F\n",
        "import torch.optim\n",
        "import numpy as np\n",
        "import re\n",
        "\n",
        "# Set random seed for reproducibility\n",
        "seed = 0\n",
        "np.random.seed(seed)\n",
        "torch.manual_seed(seed)\n",
        "# torch.cuda.manual_seed(seed)\n",
        "# torch.cuda.manual_seed_all(seed)\n",
        "\n",
        "device = torch.device(\"cuda\" if torch.cuda.is_available() else \"cpu\")"
      ]
    },
    {
      "cell_type": "code",
      "execution_count": 14,
      "metadata": {},
      "outputs": [],
      "source": [
        "# Only need to run this code block once, to get a properly formatted json file for test and train set\n",
        "\n",
        "# train_path = os.path.join(os.getcwd(), 'SGD Dataset', 'TrainSet.json')\n",
        "# test_path = os.path.join(os.getcwd(), 'SGD Dataset', 'TestSet.json')\n",
        "\n",
        "# def format_json(path):\n",
        "#     # For readability purposes, ensure proper structure in the train/test set files\n",
        "#     with open(path, \"r\") as f:\n",
        "#         data = json.load(f)\n",
        "\n",
        "#     with open(path.replace(\".json\", \"_formatted.json\"), \"w\") as f:\n",
        "#         json.dump(data, f, indent=4, ensure_ascii=False)\n",
        "\n",
        "# format_json(train_path)\n",
        "# format_json(test_path)"
      ]
    },
    {
      "cell_type": "code",
      "execution_count": 15,
      "metadata": {
        "id": "vEw96z0ePgom"
      },
      "outputs": [],
      "source": [
        "if USING_COLAB:\n",
        "  path_to_dataset = os.path.join(os.getcwd(), \"drive\", \"MyDrive\", \"Current Trends VUB\", 'SGD Dataset')\n",
        "else:\n",
        "  path_to_dataset = os.path.join(os.getcwd(), 'SGD Dataset')\n",
        "path_to_train = os.path.join(path_to_dataset, \"TrainSet.json\")\n",
        "path_to_test = os.path.join(path_to_dataset, \"TestSet.json\")"
      ]
    },
    {
      "cell_type": "markdown",
      "metadata": {
        "id": "fZOpZcbjPgom"
      },
      "source": [
        "### Implementation 1: Simple RNN\n",
        "\n",
        "For the first implementation we'll train a simple RNN and LSTM on the utterances of this dataset, note that this is an utterance level model, trained on a (small) subset of the whole dataset. (TODO: might be interesting to compare with the whole dataset). At inference time the user can then input an utterance and have the system return a dialogue act predicted by the neural network. The code is based on WPOs from the course \"Deep Learning\" of the master applied computer science at VUB, where it was used in a toy dataset for sentiment analysis and could serve as a benchmark to compare our future models with."
      ]
    },
    {
      "cell_type": "markdown",
      "metadata": {
        "id": "DKlWK6J2Pgon"
      },
      "source": [
        "#### Preprocessing\n",
        "The preprocessing step involves extracting all utterances from the.json files, together with their dialogue acts, which will be used as \"labels\" in our prediction task. In addition to this, the speaker can be USER or SYSTEM, this information will be encoded in a separate token."
      ]
    },
    {
      "cell_type": "code",
      "execution_count": 16,
      "metadata": {},
      "outputs": [],
      "source": [
        "EOD = \"<eod>\" # End of dialogue token"
      ]
    },
    {
      "cell_type": "code",
      "execution_count": 17,
      "metadata": {
        "id": "ZfX5fa3BPgon"
      },
      "outputs": [
        {
          "name": "stdout",
          "output_type": "stream",
          "text": [
            "{'speaker': 'USER', 'utterance': 'I appreciate it very much. That would be all.', 'act': 'USER_THANK_YOU|USER_GOODBYE'}\n",
            "{'speaker': 'SYSTEM', 'utterance': 'Have a good time! <eod>', 'act': 'SYSTEM_GOODBYE'}\n",
            "{'speaker': 'USER', 'utterance': 'Hi i need a help, i am very hungry, I am looking for a restaurant', 'act': 'USER_INFORM_INTENT'}\n"
          ]
        }
      ],
      "source": [
        "def extract_turn_data(file_path):\n",
        "    all_data = []\n",
        "    with open(file_path, 'r') as f:\n",
        "        data = json.load(f)\n",
        "        for dialogue in data:\n",
        "            for turn in dialogue['turns']:\n",
        "                all_data.append({\n",
        "                    'speaker': turn['speaker'],\n",
        "                    'utterance': turn['utterance'],\n",
        "                    'act': turn[\"dialogue_act\"]\n",
        "                })\n",
        "            all_data[-1]['utterance'] += f\" {EOD}\" # Add an End Of Dialogue marker at the end of last utterance in turn\n",
        "    return all_data\n",
        "\n",
        "extracted_train = extract_turn_data(path_to_train)\n",
        "extracted_test = extract_turn_data(path_to_test)\n",
        "\n",
        "for i in range(22, 25):\n",
        "    print(extracted_train[i])"
      ]
    },
    {
      "cell_type": "code",
      "execution_count": 18,
      "metadata": {
        "id": "QguqFbvfPgoo"
      },
      "outputs": [],
      "source": [
        "acts = list(set([data['act'] for data in extracted_train] + [data['act'] for data in extracted_test]))\n",
        "\n",
        "acts_labels = {act : i for i, act in enumerate(acts)}\n",
        "inv_acts_labels = {v: k for k, v in acts_labels.items()}\n",
        "\n",
        "# Modified code for processing turns\n",
        "label_train = [ acts_labels[turn['act']] for turn in extracted_train ]\n",
        "label_test = [ acts_labels[turn['act']] for turn in extracted_test ]"
      ]
    },
    {
      "cell_type": "code",
      "execution_count": 19,
      "metadata": {},
      "outputs": [
        {
          "name": "stdout",
          "output_type": "stream",
          "text": [
            "{'USER_NEGATE|USER_THANK_YOU': 0, 'SYSTEM_OFFER': 1, 'USER_NEGATE|USER_GOODBYE': 2, 'USER_INFORM_INTENT|USER_NEGATE_INTENT': 3, 'USER_THANK_YOU|USER_GOODBYE': 4, 'USER_INFORM_INTENT|USER_SELECT': 5, 'SYSTEM_OFFER|SYSTEM_INFORM_COUNT': 6, 'SYSTEM_OFFER_INTENT': 7, 'USER_NEGATE_INTENT|USER_GOODBYE': 8, 'USER_REQUEST_ALTS': 9, 'SYSTEM_REQ_MORE': 10, 'USER_AFFIRM_INTENT': 11, 'SYSTEM_GOODBYE': 12, 'SYSTEM_INFORM|SYSTEM_OFFER|SYSTEM_NOTIFY_FAILURE': 13, 'SYSTEM_INFORM|SYSTEM_NOTIFY_SUCCESS': 14, 'SYSTEM_INFORM': 15, 'USER_INFORM|USER_NEGATE': 16, 'USER_NEGATE_INTENT': 17, 'USER_REQUEST': 18, 'USER_THANK_YOU': 19, 'SYSTEM_CONFIRM': 20, 'SYSTEM_REQUEST': 21, 'USER_NEGATE': 22, 'USER_REQUEST|USER_AFFIRM': 23, 'USER_INFORM': 24, 'USER_INFORM|USER_REQUEST_ALTS': 25, 'USER_AFFIRM_INTENT|USER_INFORM': 26, 'USER_INFORM_INTENT': 27, 'USER_INFORM|USER_INFORM_INTENT': 28, 'USER_INFORM|USER_INFORM_INTENT|USER_NEGATE_INTENT': 29, 'SYSTEM_OFFER|SYSTEM_NOTIFY_FAILURE': 30, 'USER_SELECT': 31, 'USER_AFFIRM': 32, 'SYSTEM_NOTIFY_FAILURE|SYSTEM_REQ_MORE': 33, 'USER_INFORM|USER_INFORM_INTENT|USER_SELECT': 34, 'USER_SELECT|USER_GOODBYE': 35, 'USER_INFORM_INTENT|USER_THANK_YOU': 36, 'USER_INFORM|USER_INFORM_INTENT|USER_THANK_YOU': 37, 'SYSTEM_NOTIFY_SUCCESS': 38} [27, 21, 24, 21, 24]\n"
          ]
        }
      ],
      "source": [
        "print(acts_labels, label_train[:5])"
      ]
    },
    {
      "cell_type": "code",
      "execution_count": 20,
      "metadata": {
        "id": "catjRbFwPgop"
      },
      "outputs": [],
      "source": [
        "def clean_utterances(extracted_turns):\n",
        "    speakers = []\n",
        "    utterances = []\n",
        "    \n",
        "    for data in extracted_turns:\n",
        "        utterance = data['utterance'].lower()\n",
        "\n",
        "        # Replace monetary values: \"$23.53\", \"$1,000\", \"$500\"\n",
        "        utterance = re.sub(r'\\$\\d+(?:,\\d{3})*(?:\\.\\d{2})?', '<price>', utterance)\n",
        "\n",
        "        # Replace all remaining numbers with <number>\n",
        "        utterance = re.sub(r'\\b\\d+\\b', '<number>', utterance)\n",
        "\n",
        "        # Separate \"?\" from words (turns \"hello?\" into \"hello ?\")\n",
        "        # such that it can become it's own token and maybe help the model recognize \"requests\"\n",
        "        utterance = re.sub(r'(\\w+)\\?', r'\\1 ?', utterance)\n",
        "\n",
        "        # Remove unwanted characters\n",
        "        chars_to_erase = ['.', ',', '!', '$']\n",
        "        for char in chars_to_erase:\n",
        "            utterance = utterance.replace(char, '')\n",
        "\n",
        "        utterances.append(utterance)\n",
        "        if data['speaker'] == 'USER':\n",
        "            speakers.append(0)\n",
        "        elif data['speaker'] == 'SYSTEM':\n",
        "            speakers.append(1)\n",
        "        else:\n",
        "            raise ValueError(f\"Unknown speaker: {data['speaker']}, expected USER or SYSTEM\")\n",
        "    \n",
        "    return speakers, utterances\n"
      ]
    },
    {
      "cell_type": "code",
      "execution_count": 21,
      "metadata": {
        "id": "or95CoGlPgoq"
      },
      "outputs": [],
      "source": [
        "speakers_train, utterances_train = clean_utterances(extracted_train)\n",
        "speakers_test, utterances_test = clean_utterances(extracted_test)"
      ]
    },
    {
      "cell_type": "code",
      "execution_count": 22,
      "metadata": {},
      "outputs": [
        {
          "name": "stdout",
          "output_type": "stream",
          "text": [
            "82588 82588 82588\n",
            "16850 16850 16850\n",
            "[0, 1]\n"
          ]
        }
      ],
      "source": [
        "print(len(speakers_train), len(utterances_train), len(label_train))\n",
        "print(len(speakers_test), len(utterances_test), len(label_test))\n",
        "print(list(set(speakers_train)))\n",
        "# Sanity check\n",
        "assert len(speakers_train) == len(utterances_train) == len(label_train), \"Lengths of speakers, utterances and labels do not match\""
      ]
    },
    {
      "cell_type": "code",
      "execution_count": 23,
      "metadata": {
        "id": "nAOcM29mPgoq"
      },
      "outputs": [],
      "source": [
        "word_freq = Counter()\n",
        "for utterance in utterances_train:\n",
        "    utterance_words = utterance.split()\n",
        "    word_freq.update(utterance_words)"
      ]
    },
    {
      "cell_type": "code",
      "execution_count": 24,
      "metadata": {
        "colab": {
          "base_uri": "https://localhost:8080/",
          "height": 303
        },
        "id": "moVAq3PcPgoq",
        "outputId": "ce03dc39-4490-4ebf-dade-5636e873837d"
      },
      "outputs": [
        {
          "data": {
            "image/png": "[encoded data removed]",
            "text/plain": [
              "<Figure size 1000x400 with 1 Axes>"
            ]
          },
          "metadata": {},
          "output_type": "display_data"
        }
      ],
      "source": [
        "# lets have a look at the top 10 words\n",
        "top_words = [word for word, count in word_freq.most_common(15)]\n",
        "top_frequencies = [count for word, count in word_freq.most_common(15)]\n",
        "\n",
        "# Create a bar plot for the top 5 words\n",
        "plt.figure(figsize=(10,4))\n",
        "plt.bar(top_words, top_frequencies)\n",
        "plt.xlabel(\"Words\")\n",
        "plt.ylabel(\"Frequency\")\n",
        "plt.title(\"Top 15 Words Frequency Histogram\")\n",
        "plt.xticks(rotation=45)  # Rotate x-axis labels for better readability\n",
        "plt.tight_layout()\n",
        "plt.show()"
      ]
    },
    {
      "cell_type": "code",
      "execution_count": 25,
      "metadata": {
        "colab": {
          "base_uri": "https://localhost:8080/"
        },
        "id": "dzE7B3LRPgoq",
        "outputId": "e42430e7-0525-4d2c-d42b-75f8fa8f01b6"
      },
      "outputs": [
        {
          "name": "stdout",
          "output_type": "stream",
          "text": [
            "Total words are: 2704\n"
          ]
        }
      ],
      "source": [
        "min_word_freq = 5\n",
        "words = [w for w in word_freq.keys() if word_freq[w] > min_word_freq]\n",
        "word_map = {k: v + 1 for v, k in enumerate(words)}\n",
        "word_map['<unk>'] = len(word_map) + 1\n",
        "word_map['<start>'] = len(word_map) + 1\n",
        "word_map['<end>'] = len(word_map) + 1\n",
        "word_map['<pad>'] = 0\n",
        "rev_word_map = {v: k for k, v in word_map.items()}\n",
        "\n",
        "print(f\"Total words are: {len(word_map)}\")"
      ]
    },
    {
      "cell_type": "code",
      "execution_count": 26,
      "metadata": {
        "id": "9yfvaXlaPgor"
      },
      "outputs": [],
      "source": [
        "def encode_text(utterances, max_len):\n",
        "    \"\"\"\n",
        "    Assign a numerical value (0 to len(word_map)) to each word in the\n",
        "    utterance while handling special tokens.\n",
        "    \"\"\"\n",
        "    encoded_texts = []\n",
        "    \n",
        "    for utterance in utterances:\n",
        "        utterance_words = utterance.lower().split()\n",
        "        is_last_utterance = utterance_words[-1] == EOD.lower()\n",
        "        adjusted_max_len = max_len - (3 if is_last_utterance else 2)  # Adjust for special tokens\n",
        "        words = utterance_words[:adjusted_max_len]\n",
        "\n",
        "        # Tokenization with special tokens\n",
        "        tokenized = [word_map['<start>']]\n",
        "        tokenized += [word_map.get(word, word_map['<unk>']) for word in words]\n",
        "        tokenized.append(word_map['<end>'])\n",
        "        \n",
        "        if is_last_utterance:\n",
        "            tokenized.append(word_map[EOD])\n",
        "        \n",
        "        # Padding\n",
        "        tokenized += [word_map['<pad>']] * (adjusted_max_len - len(words))\n",
        "        \n",
        "        encoded_texts.append(tokenized)\n",
        "    \n",
        "    return encoded_texts\n"
      ]
    },
    {
      "cell_type": "code",
      "execution_count": 27,
      "metadata": {
        "id": "6SBir4YTPgor"
      },
      "outputs": [],
      "source": [
        "encoded_texts = encode_text(utterances_train, max_len = 100)\n",
        "encoded_texts_test = encode_text(utterances_test, max_len = 100)"
      ]
    },
    {
      "cell_type": "code",
      "execution_count": 28,
      "metadata": {
        "colab": {
          "base_uri": "https://localhost:8080/"
        },
        "id": "ElC4E7mbPgor",
        "outputId": "ee811b7a-2d63-4cf5-ecc5-673a6346e0e2"
      },
      "outputs": [
        {
          "name": "stdout",
          "output_type": "stream",
          "text": [
            "<start> have a good time <eod> <end> <eod> <pad> <pad> <pad> <pad> <pad> <pad> <pad> <pad> <pad> <pad> <pad> <pad> <pad> <pad> <pad> <pad> <pad> <pad> <pad> <pad> <pad> <pad> <pad> <pad> <pad> <pad> <pad> <pad> <pad> <pad> <pad> <pad> <pad> <pad> <pad> <pad> <pad> <pad> <pad> <pad> <pad> <pad> <pad> <pad> <pad> <pad> <pad> <pad> <pad> <pad> <pad> <pad> <pad> <pad> <pad> <pad> <pad> <pad> <pad> <pad> <pad> <pad> <pad> <pad> <pad> <pad> <pad> <pad> <pad> <pad> <pad> <pad> <pad> <pad> <pad> <pad> <pad> <pad> <pad> <pad> <pad> <pad> <pad> <pad> <pad> <pad> <pad> <pad> <pad> <pad> <pad> <pad>\n",
            "100\n"
          ]
        }
      ],
      "source": [
        "# test one sample\n",
        "example_tokens = encoded_texts[23]\n",
        "print(\" \".join([rev_word_map[t] for t in example_tokens]))\n",
        "print(len(example_tokens))"
      ]
    },
    {
      "cell_type": "markdown",
      "metadata": {
        "id": "9NWKUVNtPgor"
      },
      "source": [
        "#### Dataset and Data Loaders"
      ]
    },
    {
      "cell_type": "code",
      "execution_count": 302,
      "metadata": {
        "id": "3l9TiDYaPgos"
      },
      "outputs": [],
      "source": [
        "X_utterances_train = torch.tensor(encoded_texts)    # (number_of_samples, max_length)\n",
        "X_speakers_train = torch.nn.functional.one_hot(torch.tensor(speakers_train), num_classes=2) \n",
        "# In accordance with the paper, we will pass the speakers as one-hot vectors along with the utterance\n",
        "y_train = torch.LongTensor(label_train)  # (number_of_samples)\n",
        "\n",
        "train_dataset = torch.utils.data.TensorDataset(X_utterances_train, X_speakers_train, y_train)\n",
        "train_loader = torch.utils.data.DataLoader(train_dataset, \n",
        "                                           batch_size=128, \n",
        "                                           shuffle=True)\n",
        "\n",
        "X_utterances_test = torch.tensor(encoded_texts_test)\n",
        "X_speakers_test = torch.nn.functional.one_hot(torch.tensor(speakers_test), num_classes=2)\n",
        "y_test = torch.LongTensor(label_test)\n",
        "\n",
        "test_dataset = torch.utils.data.TensorDataset(X_utterances_test, X_speakers_test, y_test)\n",
        "test_loader = torch.utils.data.DataLoader(test_dataset,\n",
        "                                        batch_size=128,\n",
        "                                        shuffle=False)"
      ]
    },
    {
      "cell_type": "code",
      "execution_count": 303,
      "metadata": {},
      "outputs": [
        {
          "name": "stdout",
          "output_type": "stream",
          "text": [
            "torch.Size([128, 100]) torch.Size([128, 2]) torch.Size([128])\n"
          ]
        }
      ],
      "source": [
        "utterances, speakers, labels = next(iter(train_loader))\n",
        "print(utterances.shape, speakers.shape, labels.shape)"
      ]
    },
    {
      "cell_type": "markdown",
      "metadata": {},
      "source": [
        "#### Architectures"
      ]
    },
    {
      "cell_type": "markdown",
      "metadata": {
        "id": "GrZIf4ARPgos"
      },
      "source": [
        "RNN Network defined by:\n",
        "\n",
        "$h_t= \\tanh \\left(W_h \\cdot\\left[h_{t-1}, x_t\\right]+b_i\\right)$ <br>"
      ]
    },
    {
      "cell_type": "code",
      "execution_count": 49,
      "metadata": {
        "id": "ijgtNYhoPgos"
      },
      "outputs": [],
      "source": [
        "class RNN(nn.Module):\n",
        "    def __init__(self, input_sz, hidden_sz):\n",
        "        super(RNN, self).__init__()\n",
        "        self.input_size = input_sz\n",
        "        self.hidden_size = hidden_sz\n",
        "\n",
        "        self.W_h = nn.Linear(input_sz + hidden_sz, hidden_sz)\n",
        "\n",
        "    def forward(self, x):\n",
        "        batch_size, seq_len, embed_dim = x.size()\n",
        "\n",
        "        h_t, c_t = (torch.zeros(batch_size, self.hidden_size).to(device),\n",
        "                    torch.zeros(batch_size, self.hidden_size).to(device))\n",
        "\n",
        "        hidden_states = []\n",
        "\n",
        "        for t in range(seq_len):\n",
        "            x_t = x[:, t, :]\n",
        "            common_input = torch.cat([x_t, h_t], dim=-1)\n",
        "            h_t = torch.tanh(self.W_h(common_input))\n",
        "            hidden_states.append(h_t.unsqueeze(1))\n",
        "\n",
        "        hidden_states = torch.cat(hidden_states, dim=1)\n",
        "\n",
        "        return hidden_states"
      ]
    },
    {
      "cell_type": "code",
      "execution_count": 50,
      "metadata": {},
      "outputs": [],
      "source": [
        "class LSTM(nn.Module):\n",
        "    \n",
        "    def __init__(self, input_sz, hidden_sz):\n",
        "        \n",
        "        super(LSTM, self).__init__()\n",
        "        self.input_size = input_sz\n",
        "        self.hidden_size = hidden_sz\n",
        "        \n",
        "        #c_t: new memory (the new memory)\n",
        "        self.W_c = nn.Linear(input_sz + hidden_sz, hidden_sz)\n",
        "\n",
        "        #i_t: input gate (how much to take from the new memory)\n",
        "        self.W_i = nn.Linear(input_sz + hidden_sz, hidden_sz)\n",
        "\n",
        "        #f_t: forget gate (how much to forget from the old memory)\n",
        "        self.W_f = nn.Linear(input_sz + hidden_sz, hidden_sz)\n",
        "\n",
        "        #o_t: output gate (how much to take from the new memory to represent the output)\n",
        "        self.W_o = nn.Linear(input_sz + hidden_sz, hidden_sz)\n",
        "\n",
        "        self.init_weights()\n",
        "        \n",
        "    def init_weights(self):\n",
        "        stdv = 1.0 / math.sqrt(self.hidden_size)\n",
        "        for weight in self.parameters():\n",
        "            weight.data.uniform_(-stdv, stdv)\n",
        "            \n",
        "    def forward(self, x):\n",
        "        batch_size, seq_len, embed_dim = x.size()  \n",
        "        \n",
        "        # initialize h_t and c_t to zeros\n",
        "        h_t, c_t = (torch.zeros(batch_size, self.hidden_size).to(device), \n",
        "                    torch.zeros(batch_size,self.hidden_size).to(device))\n",
        "        \n",
        "        hidden_states = []\n",
        "        \n",
        "        for t in range(seq_len):\n",
        "            # get the input at the current timestep \n",
        "            x_t = x[:, t, :]\n",
        "            \n",
        "            # run the LSTM Cell\n",
        "            common_input = torch.cat([x_t, h_t], dim = -1)\n",
        "            \n",
        "            new_c = torch.tanh(self.W_c(common_input))\n",
        "            i_t = torch.sigmoid(self.W_i(common_input))\n",
        "            f_t = torch.sigmoid(self.W_f(common_input))\n",
        "            c_t = f_t * c_t + i_t * new_c\n",
        "            \n",
        "            o_t = torch.sigmoid(self.W_o(common_input))\n",
        "            h_t = o_t * torch.tanh(c_t)\n",
        "            \n",
        "            # save the hidden states in a list\n",
        "            hidden_states.append(h_t.unsqueeze(1))\n",
        "            \n",
        "        hidden_states = torch.cat(hidden_states, dim = 1)\n",
        "            \n",
        "        return hidden_states"
      ]
    },
    {
      "cell_type": "code",
      "execution_count": 306,
      "metadata": {
        "id": "Ikttfh0NPgos"
      },
      "outputs": [],
      "source": [
        "class Net(nn.Module):\n",
        "    \n",
        "    def __init__(self, input_embedding_size, hidden_size, pooling_type = 'last_hidden_state'):\n",
        "        \n",
        "        super().__init__()\n",
        "\n",
        "        self.embedding = nn.Embedding(len(word_map), input_embedding_size)\n",
        "        # self.rnn = RNN(input_embedding_size, hidden_size) # Uncomment for RNN (and change in forward pass)\n",
        "        self.lstm = LSTM(input_embedding_size, hidden_size)\n",
        "        self.classifier = nn.Linear(hidden_size + 2, len(acts_labels))\n",
        "        self.pooling_type = pooling_type\n",
        "        \n",
        "    def forward(self, x, speaker_ids):\n",
        "        \n",
        "        # x is of shape (batch_size, max_seq_length)\n",
        "        x = self.embedding(x)   # (batch_size, seq_len, embed_dim)\n",
        "        x = self.lstm(x)        # (batch_size, seq_len, hidden_size)\n",
        "\n",
        "        if self.pooling_type == \"last_hidden_state\":\n",
        "            x = x[:, -1, :]     # (batch_size, hidden_size)\n",
        "        else:\n",
        "            x = x.mean(1)       # (batch_size, hidden_size)\n",
        "\n",
        "        x = torch.cat((speaker_ids, x), dim=1)  # (batch_size, hidden_size + 2)\n",
        "\n",
        "        x = self.classifier(x)         # (batch_size, len(acts_labels))\n",
        "        return x"
      ]
    },
    {
      "cell_type": "markdown",
      "metadata": {},
      "source": [
        "#### Training"
      ]
    },
    {
      "cell_type": "code",
      "execution_count": 307,
      "metadata": {
        "id": "IJdxYdH5Pgos"
      },
      "outputs": [],
      "source": [
        "def train(model, optimizer, criterion, epoch, num_epochs):\n",
        "    model.train()\n",
        "    train_loss = 0\n",
        "    correct = 0\n",
        "    total = 0\n",
        "    for batch_idx, (inputs, speakers, targets) in enumerate(tqdm(train_loader), ):\n",
        "        # move to device\n",
        "        inputs = inputs.to(device)\n",
        "        speakers = speakers.to(device)\n",
        "        targets = targets.to(device)\n",
        "        \n",
        "        # run forward-backward pass\n",
        "        optimizer.zero_grad()\n",
        "        outputs = model(inputs, speakers)\n",
        "        loss = criterion(outputs, targets)\n",
        "        loss.backward()\n",
        "        optimizer.step()\n",
        "\n",
        "        # keep track of loss and accuracy\n",
        "        train_loss += loss.item()\n",
        "        _, predicted = outputs.max(1)\n",
        "        total += targets.size(0)\n",
        "        correct += predicted.eq(targets).sum().item()\n",
        "    \n",
        "    epoch_loss = train_loss / (batch_idx+1)\n",
        "    epoch_acc = 100.* correct / total\n",
        "    print('Epoch {}/{}, Iter {}/{}, Train Loss: {:.3f}, Train Accuracy: {:.3f}'.format(epoch+1, num_epochs, batch_idx, \n",
        "                                                                                       len(train_loader),\n",
        "                                                                                       epoch_loss, \n",
        "                                                                                       epoch_acc))\n",
        "    return epoch_loss, epoch_acc"
      ]
    },
    {
      "cell_type": "code",
      "execution_count": 308,
      "metadata": {
        "id": "urhr5KKSPgot"
      },
      "outputs": [],
      "source": [
        "def evaluate(model, test_loader):\n",
        "    model.eval()\n",
        "    correct = 0\n",
        "    top5_correct = 0\n",
        "    total = 0\n",
        "    \n",
        "    with torch.no_grad():\n",
        "        for inputs, speakers, targets in tqdm(test_loader):\n",
        "            inputs, speakers, targets = inputs.to(device), speakers.to(device), targets.to(device)\n",
        "            outputs = model(inputs, speakers)\n",
        "            \n",
        "            # Calculate top-1 accuracy\n",
        "            _, predicted = outputs.max(1)\n",
        "            correct += predicted.eq(targets).sum().item()\n",
        "            \n",
        "            # Calculate top-5 accuracy\n",
        "            _, top5_predicted = outputs.topk(5, 1, True, True)\n",
        "            # Add batch dimension to targets for comparison with topk predictions\n",
        "            target_reshaped = targets.view(-1, 1).expand_as(top5_predicted)\n",
        "            top5_correct += top5_predicted.eq(target_reshaped).sum().item()\n",
        "            \n",
        "            total += targets.size(0)\n",
        "\n",
        "    acc = 100. * correct / total\n",
        "    top5_acc = 100. * top5_correct / total\n",
        "    \n",
        "    print('Test Accuracy: {:.3f}'.format(acc))\n",
        "    print('Top 5 Test Accuracy: {:.3f}'.format(top5_acc))\n",
        "    \n",
        "    return acc, top5_acc"
      ]
    },
    {
      "cell_type": "code",
      "execution_count": 309,
      "metadata": {
        "id": "EkRnW_NFPgos"
      },
      "outputs": [
        {
          "name": "stderr",
          "output_type": "stream",
          "text": [
            "100%|██████████| 646/646 [01:16<00:00,  8.46it/s]\n"
          ]
        },
        {
          "name": "stdout",
          "output_type": "stream",
          "text": [
            "Epoch 1/10, Iter 645/646, Train Loss: 1.963, Train Accuracy: 43.110\n"
          ]
        },
        {
          "name": "stderr",
          "output_type": "stream",
          "text": [
            "100%|██████████| 646/646 [01:15<00:00,  8.53it/s]\n"
          ]
        },
        {
          "name": "stdout",
          "output_type": "stream",
          "text": [
            "Epoch 2/10, Iter 645/646, Train Loss: 0.881, Train Accuracy: 72.972\n"
          ]
        },
        {
          "name": "stderr",
          "output_type": "stream",
          "text": [
            "100%|██████████| 646/646 [01:15<00:00,  8.54it/s]\n"
          ]
        },
        {
          "name": "stdout",
          "output_type": "stream",
          "text": [
            "Epoch 3/10, Iter 645/646, Train Loss: 0.537, Train Accuracy: 83.908\n"
          ]
        },
        {
          "name": "stderr",
          "output_type": "stream",
          "text": [
            "100%|██████████| 646/646 [01:15<00:00,  8.50it/s]\n"
          ]
        },
        {
          "name": "stdout",
          "output_type": "stream",
          "text": [
            "Epoch 4/10, Iter 645/646, Train Loss: 0.399, Train Accuracy: 88.351\n"
          ]
        },
        {
          "name": "stderr",
          "output_type": "stream",
          "text": [
            "100%|██████████| 646/646 [01:15<00:00,  8.52it/s]\n"
          ]
        },
        {
          "name": "stdout",
          "output_type": "stream",
          "text": [
            "Epoch 5/10, Iter 645/646, Train Loss: 0.336, Train Accuracy: 90.103\n"
          ]
        },
        {
          "name": "stderr",
          "output_type": "stream",
          "text": [
            "100%|██████████| 646/646 [01:15<00:00,  8.52it/s]\n"
          ]
        },
        {
          "name": "stdout",
          "output_type": "stream",
          "text": [
            "Epoch 6/10, Iter 645/646, Train Loss: 0.299, Train Accuracy: 91.087\n"
          ]
        },
        {
          "name": "stderr",
          "output_type": "stream",
          "text": [
            "100%|██████████| 646/646 [01:15<00:00,  8.55it/s]\n"
          ]
        },
        {
          "name": "stdout",
          "output_type": "stream",
          "text": [
            "Epoch 7/10, Iter 645/646, Train Loss: 0.274, Train Accuracy: 91.826\n"
          ]
        },
        {
          "name": "stderr",
          "output_type": "stream",
          "text": [
            "100%|██████████| 646/646 [01:15<00:00,  8.50it/s]\n"
          ]
        },
        {
          "name": "stdout",
          "output_type": "stream",
          "text": [
            "Epoch 8/10, Iter 645/646, Train Loss: 0.254, Train Accuracy: 92.343\n"
          ]
        },
        {
          "name": "stderr",
          "output_type": "stream",
          "text": [
            "100%|██████████| 646/646 [01:16<00:00,  8.49it/s]\n"
          ]
        },
        {
          "name": "stdout",
          "output_type": "stream",
          "text": [
            "Epoch 9/10, Iter 645/646, Train Loss: 0.241, Train Accuracy: 92.702\n"
          ]
        },
        {
          "name": "stderr",
          "output_type": "stream",
          "text": [
            "100%|██████████| 646/646 [01:15<00:00,  8.52it/s]"
          ]
        },
        {
          "name": "stdout",
          "output_type": "stream",
          "text": [
            "Epoch 10/10, Iter 645/646, Train Loss: 0.228, Train Accuracy: 93.017\n"
          ]
        },
        {
          "name": "stderr",
          "output_type": "stream",
          "text": [
            "\n"
          ]
        }
      ],
      "source": [
        "model = Net(input_embedding_size = 8, hidden_size = 32, pooling_type=\"average\").to(device)\n",
        "# According to the paper, average carried more information about the DA than the last hidden state, which was confirmed here,\n",
        "# because the last_hidden_state model reached an accuracy of about 11%, while the average model reached 84.6%.\n",
        "\n",
        "# https://developers.googleblog.com/en/introducing-tensorflow-feature-columns/\n",
        "# embedding_size = number_of_categories**0.25, we have about 3000 words, 3000**0.25 rounded up = 8\n",
        "# According to chatGPT hidden size should be about 2-4 times the embedding size\n",
        "\n",
        "optimizer = torch.optim.Adam(model.parameters(), lr=0.005)\n",
        "criterion = nn.CrossEntropyLoss()\n",
        "num_epochs = 10\n",
        "\n",
        "losses = []\n",
        "accuracies = []\n",
        "\n",
        "for epoch in range(num_epochs):\n",
        "    epoch_loss, epoch_acc = train(model, optimizer, criterion, epoch, num_epochs)\n",
        "    losses.append(epoch_loss)\n",
        "    accuracies.append(epoch_acc)"
      ]
    },
    {
      "cell_type": "code",
      "execution_count": 310,
      "metadata": {
        "id": "5_XQxgyKPgot"
      },
      "outputs": [
        {
          "data": {
            "text/plain": [
              "Text(0.5, 1.0, 'Loss Curve')"
            ]
          },
          "execution_count": 310,
          "metadata": {},
          "output_type": "execute_result"
        },
        {
          "data": {
            "image/png": "[encoded data removed]",
            "text/plain": [
              "<Figure size 640x480 with 1 Axes>"
            ]
          },
          "metadata": {},
          "output_type": "display_data"
        }
      ],
      "source": [
        "plt.plot(losses)\n",
        "plt.xlabel('epoch')\n",
        "plt.ylabel('loss')\n",
        "plt.title('Loss Curve')"
      ]
    },
    {
      "cell_type": "code",
      "execution_count": 311,
      "metadata": {
        "id": "WWmkR2e3Pgot"
      },
      "outputs": [
        {
          "data": {
            "text/plain": [
              "Text(0.5, 1.0, 'Accuracy Curve')"
            ]
          },
          "execution_count": 311,
          "metadata": {},
          "output_type": "execute_result"
        },
        {
          "data": {
            "image/png": "[encoded data removed]",
            "text/plain": [
              "<Figure size 640x480 with 1 Axes>"
            ]
          },
          "metadata": {},
          "output_type": "display_data"
        }
      ],
      "source": [
        "plt.plot(accuracies)\n",
        "plt.xlabel('epoch')\n",
        "plt.ylabel('accuracy')\n",
        "plt.title('Accuracy Curve')"
      ]
    },
    {
      "cell_type": "code",
      "execution_count": 312,
      "metadata": {},
      "outputs": [
        {
          "name": "stderr",
          "output_type": "stream",
          "text": [
            "100%|██████████| 132/132 [00:04<00:00, 31.15it/s]"
          ]
        },
        {
          "name": "stdout",
          "output_type": "stream",
          "text": [
            "Test Accuracy: 85.917\n",
            "Top 5 Test Accuracy: 98.226\n"
          ]
        },
        {
          "name": "stderr",
          "output_type": "stream",
          "text": [
            "\n"
          ]
        },
        {
          "data": {
            "text/plain": [
              "(85.91691394658754, 98.22551928783383)"
            ]
          },
          "execution_count": 312,
          "metadata": {},
          "output_type": "execute_result"
        }
      ],
      "source": [
        "evaluate(model, test_loader)"
      ]
    },
    {
      "cell_type": "code",
      "execution_count": 313,
      "metadata": {},
      "outputs": [],
      "source": [
        "def predict_input(model, text, speaker_id, target_label, is_text_encoded=False):\n",
        "\n",
        "    print(\"-------------------\")\n",
        "    if not is_text_encoded:\n",
        "        _, cleaned_text = clean_utterances([{'utterance': text, 'speaker': 'USER' if speaker_id == [1, 0] else 'SYSTEM'}])\n",
        "        encoded_test_sentence = encode_text(cleaned_text, max_len = 100)\n",
        "        print(' '.join([rev_word_map[w] for w in encoded_test_sentence[0]]))\n",
        "        encoded_test_sentence = torch.tensor(encoded_test_sentence)\n",
        "    else:\n",
        "        sentence = ' '.join([rev_word_map[w] for w in text.tolist()])\n",
        "        print(sentence)\n",
        "        encoded_test_sentence = text.unsqueeze(0)\n",
        "    \n",
        "    model.eval()\n",
        "    with torch.no_grad():\n",
        "        output = model(encoded_test_sentence.to(device), speaker_id.to(device))\n",
        "        prob, pred = F.softmax(output, dim = -1).max(1)\n",
        "    print('index {} ({}) is predicted with a probability of {}'.format(pred.item(), inv_acts_labels[pred.item()], prob.item()))\n",
        "    print('True label is {}'.format(inv_acts_labels[target_label]))\n",
        "\n",
        "    all_probs = F.softmax(output, dim = -1)\n",
        "\n",
        "    predictions_with_probs = [(inv_acts_labels[i], p.item()) for i, p in enumerate(all_probs[0])]\n",
        "    # for pred, prob in predictions_with_probs:\n",
        "    #     print(f\"{pred}: {prob:.3f}\")\n",
        "\n",
        "    \n",
        "    # Top 5 predictions and top 5 accuracy\n",
        "    top_5_preds = all_probs.topk(5)\n",
        "    top_5_preds_indices = top_5_preds.indices[0]\n",
        "    top_5_preds_probs = top_5_preds.values[0]\n",
        "    top_5_preds_with_probs = [(inv_acts_labels[i.item()], p.item()) for i, p in zip(top_5_preds_indices, top_5_preds_probs)]\n",
        "\n",
        "    print(\"Top 5 predictions with probabilities:\")\n",
        "    for pred, prob in top_5_preds_with_probs:\n",
        "        print(f\"{pred}: {prob:.3f}\")\n",
        "        \n",
        "    return output, prob, pred"
      ]
    },
    {
      "cell_type": "code",
      "execution_count": 314,
      "metadata": {
        "id": "tR1eN_bwPgou"
      },
      "outputs": [
        {
          "name": "stdout",
          "output_type": "stream",
          "text": [
            "-------------------\n",
            "<start> hi could you get me a restaurant booking on the 8th please ? <end> <pad> <pad> <pad> <pad> <pad> <pad> <pad> <pad> <pad> <pad> <pad> <pad> <pad> <pad> <pad> <pad> <pad> <pad> <pad> <pad> <pad> <pad> <pad> <pad> <pad> <pad> <pad> <pad> <pad> <pad> <pad> <pad> <pad> <pad> <pad> <pad> <pad> <pad> <pad> <pad> <pad> <pad> <pad> <pad> <pad> <pad> <pad> <pad> <pad> <pad> <pad> <pad> <pad> <pad> <pad> <pad> <pad> <pad> <pad> <pad> <pad> <pad> <pad> <pad> <pad> <pad> <pad> <pad> <pad> <pad> <pad> <pad> <pad> <pad> <pad> <pad> <pad> <pad> <pad> <pad> <pad> <pad> <pad> <pad> <pad>\n",
            "index 34 (USER_INFORM|USER_INFORM_INTENT) is predicted with a probability of 0.9750328063964844\n",
            "True label is USER_INFORM|USER_INFORM_INTENT\n",
            "Top 5 predictions with probabilities:\n",
            "USER_INFORM|USER_INFORM_INTENT: 0.975\n",
            "USER_INFORM|USER_INFORM_INTENT|USER_SELECT: 0.009\n",
            "USER_INFORM_INTENT: 0.007\n",
            "USER_INFORM|USER_REQUEST_ALTS: 0.006\n",
            "USER_INFORM: 0.002\n"
          ]
        }
      ],
      "source": [
        "sample, speaker_id, target = test_dataset[0]\n",
        "target = target.item()\n",
        "speaker_id = speaker_id.unsqueeze(0)  # Add this line to make speaker_id a 2D tensor\n",
        "output, prob, pred = predict_input(model, text=sample, speaker_id=speaker_id, target_label=target, is_text_encoded=True)"
      ]
    },
    {
      "cell_type": "code",
      "execution_count": 315,
      "metadata": {},
      "outputs": [
        {
          "name": "stdout",
          "output_type": "stream",
          "text": [
            "-------------------\n",
            "<start> no problem goodbye <end> <pad> <pad> <pad> <pad> <pad> <pad> <pad> <pad> <pad> <pad> <pad> <pad> <pad> <pad> <pad> <pad> <pad> <pad> <pad> <pad> <pad> <pad> <pad> <pad> <pad> <pad> <pad> <pad> <pad> <pad> <pad> <pad> <pad> <pad> <pad> <pad> <pad> <pad> <pad> <pad> <pad> <pad> <pad> <pad> <pad> <pad> <pad> <pad> <pad> <pad> <pad> <pad> <pad> <pad> <pad> <pad> <pad> <pad> <pad> <pad> <pad> <pad> <pad> <pad> <pad> <pad> <pad> <pad> <pad> <pad> <pad> <pad> <pad> <pad> <pad> <pad> <pad> <pad> <pad> <pad> <pad> <pad> <pad> <pad> <pad> <pad> <pad> <pad> <pad> <pad> <pad> <pad> <pad> <pad> <pad>\n",
            "index 35 (SYSTEM_INFORM) is predicted with a probability of 0.782960832118988\n",
            "True label is SYSTEM_GOODBYE\n",
            "Top 5 predictions with probabilities:\n",
            "SYSTEM_INFORM: 0.783\n",
            "SYSTEM_REQ_MORE: 0.201\n",
            "SYSTEM_NOTIFY_FAILURE|SYSTEM_REQ_MORE: 0.005\n",
            "USER_NEGATE|USER_THANK_YOU: 0.004\n",
            "USER_NEGATE: 0.002\n"
          ]
        }
      ],
      "source": [
        "test_sentence = \"No problem, goodbye!\"\n",
        "test_speaker_id = torch.tensor([0, 1]).unsqueeze(0)  # [0, 1] for SYSTEM, [1, 0] for USER\n",
        "test_target = 5 # 5 is the index of the \"SYSTEM_GOODBYE\" act\n",
        "_ = predict_input(model, text=test_sentence, speaker_id=test_speaker_id, target_label=test_target)"
      ]
    },
    {
      "cell_type": "markdown",
      "metadata": {},
      "source": [
        "### Implementation 2: Paper - \"A Context-based Approach for Dialogue Act Recognition using Simple Recurrent Neural Networks\""
      ]
    },
    {
      "cell_type": "code",
      "execution_count": 3,
      "metadata": {},
      "outputs": [
        {
          "name": "stderr",
          "output_type": "stream",
          "text": [
            "C:\\Users\\Ward\\AppData\\Local\\Temp\\ipykernel_14960\\3209141506.py:6: FutureWarning: You are using `torch.load` with `weights_only=False` (the current default value), which uses the default pickle module implicitly. It is possible to construct malicious pickle data which will execute arbitrary code during unpickling (See https://github.com/pytorch/pytorch/blob/main/SECURITY.md#untrusted-models for more details). In a future release, the default value for `weights_only` will be flipped to `True`. This limits the functions that could be executed during unpickling. Arbitrary objects will no longer be allowed to be loaded via this mode unless they are explicitly allowlisted by the user via `torch.serialization.add_safe_globals`. We recommend you start setting `weights_only=True` for any use case where you don't have full control of the loaded file. Please open an issue on GitHub for any issues related to this experimental feature.\n",
            "  checkpoint = torch.load('mlstm-ns.pt', map_location='cpu')\n"
          ]
        },
        {
          "data": {
            "text/plain": [
              "StackedLSTM(\n",
              "  (dropout): Dropout(p=0.0, inplace=False)\n",
              "  (h2o): Linear(in_features=4096, out_features=256, bias=True)\n",
              "  (layer_0): mLSTM(\n",
              "    (wx): Linear(in_features=128, out_features=16384, bias=False)\n",
              "    (wh): Linear(in_features=4096, out_features=16384, bias=True)\n",
              "    (wmx): Linear(in_features=128, out_features=4096, bias=False)\n",
              "    (wmh): Linear(in_features=4096, out_features=4096, bias=False)\n",
              "  )\n",
              ")"
            ]
          },
          "execution_count": 3,
          "metadata": {},
          "output_type": "execute_result"
        }
      ],
      "source": [
        "import torch\n",
        "from torch.autograd import Variable\n",
        "# from models import mLSTM, StackedLSTM\n",
        "\n",
        "# Load the pretrained model checkpoint\n",
        "checkpoint = torch.load('mlstm-ns.pt', map_location='cpu')\n",
        "\n",
        "# Extract model components\n",
        "encoder = checkpoint['rnn']  # This is the trained mLSTM model\n",
        "embed = checkpoint['embed']  # Character embedding layer\n",
        "\n",
        "encoder.eval()  # Set the model to evaluation mode"
      ]
    },
    {
      "cell_type": "code",
      "execution_count": null,
      "metadata": {},
      "outputs": [],
      "source": [
        "def extract_feature_vectors(sentence, embed, rnn, type=\"last\"):\n",
        "    rnn.eval()\n",
        "    with torch.no_grad():\n",
        "        sentence_tensor = torch.LongTensor([ord(c) for c in sentence]).unsqueeze(1)  # Shape: (seq_len, 1)\n",
        "        hidden_state = rnn.state0(batch_size=1)\n",
        "        hidden_states = []  # Store all hidden states\n",
        "        \n",
        "        for char in sentence_tensor:\n",
        "            char_var = Variable(char)\n",
        "            emb = embed(char_var)\n",
        "            hidden_state, _ = rnn(emb, hidden_state)\n",
        "            hidden_states.append(hidden_state[0].detach().cpu())  # Extract h_t (first element of tuple)\n",
        "\n",
        "        # Last hidden state\n",
        "        last_feature_vector = hidden_states[-1].squeeze()\n",
        "\n",
        "        # Average hidden state\n",
        "        avg_feature_vector = torch.mean(torch.stack(hidden_states), dim=0).squeeze()\n",
        "\n",
        "        return last_feature_vector if type == \"last\" else avg_feature_vector\n"
      ]
    },
    {
      "cell_type": "code",
      "execution_count": 30,
      "metadata": {},
      "outputs": [
        {
          "name": "stdout",
          "output_type": "stream",
          "text": [
            "Last Feature Vector Shape: torch.Size([4096])\n",
            "Average Feature Vector Shape: torch.Size([4096])\n"
          ]
        }
      ],
      "source": [
        "sentence = \"Hello, how are you?\"\n",
        "last_vec = extract_feature_vectors(sentence, embed, encoder, type=\"last\")\n",
        "avg_vec = extract_feature_vectors(sentence, embed, encoder, type=\"average\")\n",
        "\n",
        "print(\"Last Feature Vector Shape:\", last_vec.shape)\n",
        "print(\"Average Feature Vector Shape:\", avg_vec.shape)"
      ]
    },
    {
      "cell_type": "code",
      "execution_count": 43,
      "metadata": {},
      "outputs": [],
      "source": [
        "import torch\n",
        "from torch.utils.data import Dataset, DataLoader\n",
        "\n",
        "class DialogueWindowDataset(Dataset):\n",
        "    def __init__(self, embeddings_path, file_path):\n",
        "        # Load precomputed embeddings\n",
        "        self.embeddings = torch.load(embeddings_path)\n",
        "        \n",
        "        with open(file_path, 'r') as f:\n",
        "            file_contents = json.load(f)\n",
        "            dialogues = [dialogue['turns'] for dialogue in file_contents]\n",
        "            self.data = []\n",
        "            for dialog_idx, dialog in enumerate(tqdm(dialogues)):\n",
        "                embeddings = self.embeddings[dialog_idx]\n",
        "                speakers = [turn['speaker'] for turn in dialog]\n",
        "                speakers = [0 if spk == 'USER' else 1 for spk in speakers]\n",
        "                labels = [acts_labels[turn['dialogue_act']] for turn in dialog]\n",
        "                \n",
        "                n = len(embeddings)\n",
        "                for t in range(n):\n",
        "                    # Collect previous two utterances and current (indices t-2, t-1, t)\n",
        "                    window_emb = []\n",
        "                    window_speaker = []\n",
        "                    for idx in [t-2, t-1, t]:\n",
        "                        if idx >= 0:\n",
        "                            emb = embeddings[idx]\n",
        "                            spk = torch.nn.functional.one_hot(\n",
        "                                torch.tensor(speakers[idx]), num_classes=2\n",
        "                            ).float()\n",
        "                        else:\n",
        "                            emb = torch.zeros(4096)  # Embedding dimension\n",
        "                            spk = torch.zeros(2)\n",
        "                        window_emb.append(emb)\n",
        "                        window_speaker.append(spk)\n",
        "                    \n",
        "                    window_emb = torch.stack(window_emb)  # (3, embed_dim)\n",
        "                    window_speaker = torch.stack(window_speaker)  # (3, 2)\n",
        "                    combined = torch.cat([window_emb, window_speaker], dim=1)  # (3, embed_dim + 2)\n",
        "                    label = labels[t]\n",
        "                    \n",
        "                    self.data.append((combined, label))\n",
        "    \n",
        "    def __len__(self):\n",
        "        return len(self.data)\n",
        "    \n",
        "    def __getitem__(self, idx):\n",
        "        return self.data[idx]"
      ]
    },
    {
      "cell_type": "code",
      "execution_count": 44,
      "metadata": {},
      "outputs": [
        {
          "name": "stderr",
          "output_type": "stream",
          "text": [
            "C:\\Users\\Ward\\AppData\\Local\\Temp\\ipykernel_14960\\263095399.py:7: FutureWarning: You are using `torch.load` with `weights_only=False` (the current default value), which uses the default pickle module implicitly. It is possible to construct malicious pickle data which will execute arbitrary code during unpickling (See https://github.com/pytorch/pytorch/blob/main/SECURITY.md#untrusted-models for more details). In a future release, the default value for `weights_only` will be flipped to `True`. This limits the functions that could be executed during unpickling. Arbitrary objects will no longer be allowed to be loaded via this mode unless they are explicitly allowlisted by the user via `torch.serialization.add_safe_globals`. We recommend you start setting `weights_only=True` for any use case where you don't have full control of the loaded file. Please open an issue on GitHub for any issues related to this experimental feature.\n",
            "  self.embeddings = torch.load(embeddings_path)\n",
            "100%|██████████| 5403/5403 [00:13<00:00, 406.21it/s]\n",
            "100%|██████████| 1331/1331 [00:01<00:00, 774.92it/s]\n"
          ]
        },
        {
          "name": "stdout",
          "output_type": "stream",
          "text": [
            "torch.Size([128, 3, 4098])\n",
            "torch.Size([128])\n"
          ]
        }
      ],
      "source": [
        "# Define the dataset and dataloader\n",
        "train_dataset = DialogueWindowDataset(embeddings_path='train_embeddings_average.pt', file_path=path_to_train)\n",
        "train_loader = DataLoader(train_dataset, batch_size=128, shuffle=True)\n",
        "test_dataset = DialogueWindowDataset(embeddings_path='test_embeddings_average.pt', file_path=path_to_test)\n",
        "test_loader = DataLoader(test_dataset, batch_size=128, shuffle=False)\n",
        "\n",
        "# Example batch\n",
        "for batch in train_loader:\n",
        "    combined, labels = batch\n",
        "    print(combined.shape)  # (batch_size, 3, embed_dim + 2)\n",
        "    print(labels.shape)    # (batch_size,)\n",
        "    break"
      ]
    },
    {
      "cell_type": "code",
      "execution_count": 51,
      "metadata": {},
      "outputs": [],
      "source": [
        "class Net(nn.Module):\n",
        "    def __init__(self, input_size, hidden_size, num_classes, pooling_type='last_hidden_state'):\n",
        "        super().__init__()\n",
        "        # self.rnn = RNN(input_size, hidden_size)  # Uncomment for RNN\n",
        "        self.lstm = LSTM(input_size, hidden_size)  # Use LSTM by default\n",
        "        self.classifier = nn.Linear(hidden_size, num_classes)  # Output layer\n",
        "        self.pooling_type = pooling_type\n",
        "\n",
        "    def forward(self, x):\n",
        "        # x is of shape (batch_size, seq_len, input_size)\n",
        "        # Pass through the RNN/LSTM\n",
        "        x = self.lstm(x)  # (batch_size, seq_len, hidden_size)\n",
        "\n",
        "        # Pooling\n",
        "        if self.pooling_type == \"last_hidden_state\":\n",
        "            x = x[:, -1, :]  # (batch_size, hidden_size)\n",
        "        else:\n",
        "            x = x.mean(dim=1)  # (batch_size, hidden_size)\n",
        "\n",
        "        # Classify\n",
        "        x = self.classifier(x)  # (batch_size, num_classes)\n",
        "        return x"
      ]
    },
    {
      "cell_type": "code",
      "execution_count": 52,
      "metadata": {},
      "outputs": [],
      "source": [
        "def train(model, optimizer, criterion, epoch, num_epochs, train_loader):\n",
        "    model.train()\n",
        "    train_loss = 0\n",
        "    correct = 0\n",
        "    total = 0\n",
        "\n",
        "    for batch_idx, (combined, labels) in enumerate(tqdm(train_loader)):\n",
        "        # Move to device\n",
        "        combined = combined.to(device)\n",
        "        labels = labels.to(device)\n",
        "\n",
        "        # Forward pass\n",
        "        optimizer.zero_grad()\n",
        "        outputs = model(combined)  # (batch_size, num_classes)\n",
        "        loss = criterion(outputs, labels)\n",
        "        loss.backward()\n",
        "        optimizer.step()\n",
        "\n",
        "        # Track loss and accuracy\n",
        "        train_loss += loss.item()\n",
        "        _, predicted = outputs.max(1)\n",
        "        total += labels.size(0)\n",
        "        correct += predicted.eq(labels).sum().item()\n",
        "\n",
        "    epoch_loss = train_loss / (batch_idx + 1)\n",
        "    epoch_acc = 100. * correct / total\n",
        "    print(f'Epoch {epoch + 1}/{num_epochs}, Train Loss: {epoch_loss:.3f}, Train Accuracy: {epoch_acc:.3f}')\n",
        "    return epoch_loss, epoch_acc"
      ]
    },
    {
      "cell_type": "code",
      "execution_count": 53,
      "metadata": {},
      "outputs": [],
      "source": [
        "def evaluate(model, test_loader):\n",
        "    model.eval()\n",
        "    correct = 0\n",
        "    top5_correct = 0\n",
        "    total = 0\n",
        "\n",
        "    with torch.no_grad():\n",
        "        for combined, labels in tqdm(test_loader):\n",
        "            combined = combined.to(device)\n",
        "            labels = labels.to(device)\n",
        "\n",
        "            # Forward pass\n",
        "            outputs = model(combined)  # (batch_size, num_classes)\n",
        "\n",
        "            # Top-1 accuracy\n",
        "            _, predicted = outputs.max(1)\n",
        "            correct += predicted.eq(labels).sum().item()\n",
        "\n",
        "            # Top-5 accuracy\n",
        "            _, top5_predicted = outputs.topk(5, 1, True, True)\n",
        "            target_reshaped = labels.view(-1, 1).expand_as(top5_predicted)\n",
        "            top5_correct += top5_predicted.eq(target_reshaped).sum().item()\n",
        "\n",
        "            total += labels.size(0)\n",
        "\n",
        "    acc = 100. * correct / total\n",
        "    top5_acc = 100. * top5_correct / total\n",
        "    print(f'Test Accuracy: {acc:.3f}')\n",
        "    print(f'Top 5 Test Accuracy: {top5_acc:.3f}')\n",
        "    return acc, top5_acc"
      ]
    },
    {
      "cell_type": "code",
      "execution_count": 54,
      "metadata": {},
      "outputs": [
        {
          "name": "stderr",
          "output_type": "stream",
          "text": [
            "100%|██████████| 646/646 [00:05<00:00, 121.35it/s]\n"
          ]
        },
        {
          "name": "stdout",
          "output_type": "stream",
          "text": [
            "Epoch 1/10, Train Loss: 0.787, Train Accuracy: 80.136\n"
          ]
        },
        {
          "name": "stderr",
          "output_type": "stream",
          "text": [
            "100%|██████████| 646/646 [00:04<00:00, 130.88it/s]\n"
          ]
        },
        {
          "name": "stdout",
          "output_type": "stream",
          "text": [
            "Epoch 2/10, Train Loss: 0.162, Train Accuracy: 96.215\n"
          ]
        },
        {
          "name": "stderr",
          "output_type": "stream",
          "text": [
            "100%|██████████| 646/646 [00:04<00:00, 131.06it/s]\n"
          ]
        },
        {
          "name": "stdout",
          "output_type": "stream",
          "text": [
            "Epoch 3/10, Train Loss: 0.092, Train Accuracy: 97.777\n"
          ]
        },
        {
          "name": "stderr",
          "output_type": "stream",
          "text": [
            "100%|██████████| 646/646 [00:04<00:00, 130.53it/s]\n"
          ]
        },
        {
          "name": "stdout",
          "output_type": "stream",
          "text": [
            "Epoch 4/10, Train Loss: 0.068, Train Accuracy: 98.265\n"
          ]
        },
        {
          "name": "stderr",
          "output_type": "stream",
          "text": [
            "100%|██████████| 646/646 [00:04<00:00, 129.88it/s]\n"
          ]
        },
        {
          "name": "stdout",
          "output_type": "stream",
          "text": [
            "Epoch 5/10, Train Loss: 0.052, Train Accuracy: 98.638\n"
          ]
        },
        {
          "name": "stderr",
          "output_type": "stream",
          "text": [
            "100%|██████████| 646/646 [00:05<00:00, 128.79it/s]\n"
          ]
        },
        {
          "name": "stdout",
          "output_type": "stream",
          "text": [
            "Epoch 6/10, Train Loss: 0.041, Train Accuracy: 98.916\n"
          ]
        },
        {
          "name": "stderr",
          "output_type": "stream",
          "text": [
            "100%|██████████| 646/646 [00:04<00:00, 130.60it/s]\n"
          ]
        },
        {
          "name": "stdout",
          "output_type": "stream",
          "text": [
            "Epoch 7/10, Train Loss: 0.037, Train Accuracy: 99.020\n"
          ]
        },
        {
          "name": "stderr",
          "output_type": "stream",
          "text": [
            "100%|██████████| 646/646 [00:04<00:00, 135.34it/s]\n"
          ]
        },
        {
          "name": "stdout",
          "output_type": "stream",
          "text": [
            "Epoch 8/10, Train Loss: 0.032, Train Accuracy: 99.094\n"
          ]
        },
        {
          "name": "stderr",
          "output_type": "stream",
          "text": [
            "100%|██████████| 646/646 [00:04<00:00, 133.44it/s]\n"
          ]
        },
        {
          "name": "stdout",
          "output_type": "stream",
          "text": [
            "Epoch 9/10, Train Loss: 0.028, Train Accuracy: 99.217\n"
          ]
        },
        {
          "name": "stderr",
          "output_type": "stream",
          "text": [
            "100%|██████████| 646/646 [00:04<00:00, 129.81it/s]\n"
          ]
        },
        {
          "name": "stdout",
          "output_type": "stream",
          "text": [
            "Epoch 10/10, Train Loss: 0.023, Train Accuracy: 99.362\n"
          ]
        },
        {
          "name": "stderr",
          "output_type": "stream",
          "text": [
            "100%|██████████| 132/132 [00:00<00:00, 223.36it/s]"
          ]
        },
        {
          "name": "stdout",
          "output_type": "stream",
          "text": [
            "Test Accuracy: 94.896\n",
            "Top 5 Test Accuracy: 99.662\n"
          ]
        },
        {
          "name": "stderr",
          "output_type": "stream",
          "text": [
            "\n"
          ]
        }
      ],
      "source": [
        "# Hyperparameters\n",
        "input_size = 4096 + 2  # Embedding dimension + speaker one-hot\n",
        "hidden_size = 32\n",
        "num_classes = len(acts_labels)  # Number of dialogue acts\n",
        "pooling_type = 'average'  # 'last_hidden_state' or 'average'\n",
        "\n",
        "# Initialize model, optimizer, and criterion\n",
        "model = Net(input_size, hidden_size, num_classes, pooling_type).to(device)\n",
        "optimizer = torch.optim.Adam(model.parameters(), lr=0.005)\n",
        "criterion = nn.CrossEntropyLoss()\n",
        "\n",
        "# Training loop\n",
        "num_epochs = 10\n",
        "losses = []\n",
        "accuracies = []\n",
        "\n",
        "for epoch in range(num_epochs):\n",
        "    epoch_loss, epoch_acc = train(model, optimizer, criterion, epoch, num_epochs, train_loader)\n",
        "    losses.append(epoch_loss)\n",
        "    accuracies.append(epoch_acc)\n",
        "\n",
        "# Evaluate on the test set\n",
        "test_acc, test_top5_acc = evaluate(model, test_loader)"
      ]
    }
  ],
  "metadata": {
    "colab": {
      "provenance": []
    },
    "kernelspec": {
      "display_name": "multibench",
      "language": "python",
      "name": "python3"
    },
    "language_info": {
      "codemirror_mode": {
        "name": "ipython",
        "version": 3
      },
      "file_extension": ".py",
      "mimetype": "text/x-python",
      "name": "python",
      "nbconvert_exporter": "python",
      "pygments_lexer": "ipython3",
      "version": "3.12.3"
    }
  },
  "nbformat": 4,
  "nbformat_minor": 0
}
