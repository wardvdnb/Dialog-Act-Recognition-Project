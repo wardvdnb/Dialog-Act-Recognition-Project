{
 "cells": [
  {
   "cell_type": "markdown",
   "metadata": {},
   "source": [
    "## Challenge: A deep dive into Dialogue Act Recognition\n",
    "**By**: *Ward Van den Bossche*, **Student ID**: *0605083*"
   ]
  },
  {
   "cell_type": "markdown",
   "metadata": {},
   "source": [
    "\"The Schema-Guided Dialogue (SGD) dataset consists of over 20k annotated multi-domain, task-oriented conversations between a human and a virtual assistant\" (https://github.com/google-research-datasets/dstc8-schema-guided-dialogue) It pertains to different domains like banking and weather. In addition to a training and test set, there is also a crowdfunded variant dataset (SGD-X) that can be used to test a model's generalization capabilities to real-world settings.  What's interesting for this project is the dialogue act annotations, which are defined for both system and user. Some possible values include: INFORM, REQUEST, CONFIRM. A complete list can be found on the dataset's github README.md file."
   ]
  },
  {
   "cell_type": "code",
   "execution_count": 101,
   "metadata": {},
   "outputs": [],
   "source": [
    "import os\n",
    "import matplotlib.pyplot as plt\n",
    "from collections import Counter\n",
    "import torch\n",
    "import pandas as pd\n",
    "import json\n",
    "import pickle\n",
    "import torch.utils.data\n",
    "from tqdm import tqdm\n",
    "import math\n",
    "import torch.nn as nn\n",
    "import torch.nn.functional as F\n",
    "import torch.optim\n",
    "import numpy as np\n",
    "device = torch.device(\"cuda\" if torch.cuda.is_available() else \"cpu\")"
   ]
  },
  {
   "cell_type": "code",
   "execution_count": null,
   "metadata": {},
   "outputs": [],
   "source": [
    "path_to_dataset = os.path.join(os.getcwd(), \"dstc8-schema-guided-dialogue-master\")\n",
    "path_to_train = os.path.join(path_to_dataset, \"train\")\n",
    "path_to_test = os.path.join(path_to_dataset, \"test\")\n",
    "train_files = [os.path.join(path_to_train, file) for file in os.listdir(path_to_train) if not file.startswith(\"schema.json\")]\n",
    "test_files = [os.path.join(path_to_test, file) for file in os.listdir(path_to_test) if not file.startswith(\"schema.json\")]"
   ]
  },
  {
   "cell_type": "markdown",
   "metadata": {},
   "source": [
    "### Implementation 1: Simple RNN\n",
    "\n",
    "For the first implementation we'll implement a simple RNN on the utterances of this dataset, at inference time the user can then input an utterance and have the system return a dialogue act predicted by the neural network."
   ]
  },
  {
   "cell_type": "markdown",
   "metadata": {},
   "source": [
    "#### Preprocessing\n",
    "The preprocessing step involves extracting all utterances from the.json files, together with their dialogue acts, which will be used as \"labels\" in our prediction task. In addition to this, the speaker can be USER or SYSTEM, this information will be encoded in a separate token."
   ]
  },
  {
   "cell_type": "code",
   "execution_count": null,
   "metadata": {},
   "outputs": [],
   "source": [
    "def extract_utterances_and_acts(train_files):\n",
    "    all_data = []\n",
    "    for filepath in train_files:\n",
    "        with open(filepath, 'r') as f:\n",
    "            data = json.load(f)\n",
    "            for dialogue in data:\n",
    "                for i, turn in enumerate(dialogue['turns']):\n",
    "                    speaker = turn['speaker']\n",
    "                    utterance = turn['utterance']\n",
    "                    acts = set([])\n",
    "                    # accumulate acts accross frames and actions\n",
    "                    for frame in turn['frames']:\n",
    "                        for action in frame['actions']:\n",
    "                            acts.add(action['act'])\n",
    "                    all_data.append({\n",
    "                        'speaker': speaker,\n",
    "                        'utterance': utterance,\n",
    "                        'act': list(acts)\n",
    "                    })\n",
    "    return all_data\n",
    "\n",
    "extracted_train = extract_utterances_and_acts(train_files)\n",
    "extracted_test = extract_utterances_and_acts(test_files)"
   ]
  },
  {
   "cell_type": "code",
   "execution_count": 82,
   "metadata": {},
   "outputs": [],
   "source": [
    "found_system_acts = [act for dialogue in extracted_train for act in dialogue['act'] if dialogue['speaker'] == 'SYSTEM']\n",
    "found_user_acts = [act for dialogue in extracted_train for act in dialogue['act'] if dialogue['speaker'] == 'USER']\n",
    "\n",
    "system_acts = [\n",
    "    \"INFORM\",\n",
    "    \"REQUEST\",\n",
    "    \"CONFIRM\",\n",
    "    \"OFFER\",\n",
    "    \"NOTIFY_SUCCESS\",\n",
    "    \"NOTIFY_FAILURE\", \n",
    "    \"INFORM_COUNT\",\n",
    "    \"OFFER_INTENT\", \n",
    "    \"REQ_MORE\",\n",
    "    \"GOODBYE\"\n",
    "]\n",
    "\n",
    "user_acts = [\n",
    "    \"INFORM_INTENT\",\n",
    "    \"NEGATE_INTENT\",\n",
    "    \"AFFIRM_INTENT\",\n",
    "    \"INFORM\",\n",
    "    \"REQUEST\",\n",
    "    \"AFFIRM\",\n",
    "    \"NEGATE\",\n",
    "    \"SELECT\",\n",
    "    \"REQUEST_ALTS\",\n",
    "    \"THANK_YOU\",\n",
    "    \"GOODBYE\"\n",
    "]\n",
    "\n",
    "assert(set(found_system_acts) == set(system_acts) \n",
    "        and set(found_user_acts) == set(user_acts)),  \"The found acts and theoretical ones don't match up\" # Sanity check"
   ]
  },
  {
   "cell_type": "code",
   "execution_count": null,
   "metadata": {},
   "outputs": [
    {
     "name": "stdout",
     "output_type": "stream",
     "text": [
      "[[10], [1], [13], [1], [13]] [[13, 10], [1], [13], [2], [15]]\n"
     ]
    }
   ],
   "source": [
    "acts = [\n",
    "    \"SYSTEM_INFORM\", # differentiate between user and system INFORM/REQUEST/GOODBYE, rest is unique to speaker\n",
    "    \"SYSTEM_REQUEST\",\n",
    "    \"CONFIRM\",\n",
    "    \"OFFER\",\n",
    "    \"NOTIFY_SUCCESS\",\n",
    "    \"NOTIFY_FAILURE\", \n",
    "    \"INFORM_COUNT\",\n",
    "    \"OFFER_INTENT\", \n",
    "    \"REQ_MORE\",\n",
    "    \"SYSTEM_GOODBYE\",\n",
    "    \"INFORM_INTENT\",\n",
    "    \"NEGATE_INTENT\",\n",
    "    \"AFFIRM_INTENT\",\n",
    "    \"USER_INFORM\",\n",
    "    \"USER_REQUEST\",\n",
    "    \"AFFIRM\",\n",
    "    \"NEGATE\",\n",
    "    \"SELECT\",\n",
    "    \"REQUEST_ALTS\",\n",
    "    \"THANK_YOU\",\n",
    "    \"USER_GOODBYE\"\n",
    "]\n",
    "\n",
    "# Define which acts need speaker prefixing\n",
    "shared_acts = {\n",
    "    'INFORM': {'USER': 'USER_INFORM', 'SYSTEM': 'SYSTEM_INFORM'},\n",
    "    'REQUEST': {'USER': 'USER_REQUEST', 'SYSTEM': 'SYSTEM_REQUEST'},\n",
    "    'GOODBYE': {'USER': 'USER_GOODBYE', 'SYSTEM': 'SYSTEM_GOODBYE'}\n",
    "}\n",
    "\n",
    "def get_prefixed_act(act, speaker):\n",
    "    \"\"\"Maps an act to its speaker-specific version if needed\"\"\"\n",
    "    if act in shared_acts:\n",
    "        if speaker not in ('USER', 'SYSTEM'):\n",
    "            raise ValueError(f\"Invalid speaker: {speaker}\")\n",
    "        return shared_acts[act][speaker]\n",
    "    return act\n",
    "\n",
    "\n",
    "\n",
    "\n",
    "acts_labels = {acts[i] : i for i in range(len(acts))}\n",
    "inv_acts_labels = {v: k for k, v in acts_labels.items()}\n",
    "# Modified code for processing turns\n",
    "label_train = [\n",
    "    [acts_labels[get_prefixed_act(act, turn['speaker'])] \n",
    "     for act in turn['act']]\n",
    "    for turn in extracted_train\n",
    "]\n",
    "\n",
    "label_test = [\n",
    "    [acts_labels[get_prefixed_act(act, turn['speaker'])] \n",
    "     for act in turn['act']]\n",
    "    for turn in extracted_test\n",
    "]"
   ]
  },
  {
   "cell_type": "code",
   "execution_count": 89,
   "metadata": {},
   "outputs": [],
   "source": [
    "def clean_utterances(extracted_utterances):\n",
    "    utterances = [train_data['utterance'].lower() for train_data in extracted_utterances]\n",
    "    chars_to_erase = ['.', ',', '!'] # question mark might be an indicator for a request act\n",
    "    for char in chars_to_erase:\n",
    "        utterances = [utterance.replace(char, '') for utterance in utterances]\n",
    "    return utterances"
   ]
  },
  {
   "cell_type": "code",
   "execution_count": 90,
   "metadata": {},
   "outputs": [],
   "source": [
    "utterances_train = clean_utterances(extracted_train)\n",
    "utterances_test = clean_utterances(extracted_test)"
   ]
  },
  {
   "cell_type": "code",
   "execution_count": 92,
   "metadata": {},
   "outputs": [],
   "source": [
    "word_freq = Counter()\n",
    "for utterance in utterances_train:\n",
    "    utterance_words = utterance.split()\n",
    "    word_freq.update(utterance_words)"
   ]
  },
  {
   "cell_type": "code",
   "execution_count": 93,
   "metadata": {},
   "outputs": [
    {
     "data": {
      "image/png": "[encoded data removed]",
      "text/plain": [
       "<Figure size 1000x400 with 1 Axes>"
      ]
     },
     "metadata": {},
     "output_type": "display_data"
    }
   ],
   "source": [
    "# lets have a look at the top 10 words\n",
    "top_words = [word for word, count in word_freq.most_common(15)]\n",
    "top_frequencies = [count for word, count in word_freq.most_common(15)]\n",
    "\n",
    "# Create a bar plot for the top 5 words\n",
    "plt.figure(figsize=(10,4))\n",
    "plt.bar(top_words, top_frequencies)\n",
    "plt.xlabel(\"Words\")\n",
    "plt.ylabel(\"Frequency\")\n",
    "plt.title(\"Top 15 Words Frequency Histogram\")\n",
    "plt.xticks(rotation=45)  # Rotate x-axis labels for better readability\n",
    "plt.tight_layout()\n",
    "plt.show()"
   ]
  },
  {
   "cell_type": "code",
   "execution_count": 94,
   "metadata": {},
   "outputs": [
    {
     "name": "stdout",
     "output_type": "stream",
     "text": [
      "Total words are: 7364\n"
     ]
    }
   ],
   "source": [
    "min_word_freq = 5\n",
    "words = [w for w in word_freq.keys() if word_freq[w] > min_word_freq]\n",
    "word_map = {k: v + 1 for v, k in enumerate(words)}\n",
    "word_map['<unk>'] = len(word_map) + 1\n",
    "word_map['<start>'] = len(word_map) + 1\n",
    "word_map['<end>'] = len(word_map) + 1\n",
    "word_map['<pad>'] = 0\n",
    "rev_word_map = {v: k for k, v in word_map.items()}\n",
    "\n",
    "print(f\"Total words are: {len(word_map)}\")"
   ]
  },
  {
   "cell_type": "code",
   "execution_count": 96,
   "metadata": {},
   "outputs": [],
   "source": [
    "def encode_text(data, max_len):\n",
    "    encoded_texts = []\n",
    "    for utterance in data:\n",
    "        utterance_words = utterance.lower().split()\n",
    "        # Account for <start> and <end> tokens in max_len\n",
    "        words = utterance_words[:(max_len-2)]  # -2 to make room for start/end\n",
    "        # Add start and end tokens\n",
    "        tokenized = [word_map['<start>']] + \\\n",
    "                [word_map.get(word, word_map['<unk>']) for word in words] + \\\n",
    "                [word_map['<end>']] + \\\n",
    "                [word_map['<pad>']] * (max_len - len(words) - 2)  # -2 for start/end\n",
    "        encoded_texts.append(tokenized)\n",
    "    return encoded_texts"
   ]
  },
  {
   "cell_type": "code",
   "execution_count": null,
   "metadata": {},
   "outputs": [],
   "source": [
    "encoded_texts = encode_text(utterances_train, max_len = 100)\n",
    "encoded_texts_test = encode_text(utterances_test, max_len = 100)"
   ]
  },
  {
   "cell_type": "code",
   "execution_count": 100,
   "metadata": {},
   "outputs": [
    {
     "name": "stdout",
     "output_type": "stream",
     "text": [
      "<start> i am feeling hungry so i would like to find a place to eat <end> <pad> <pad> <pad> <pad> <pad> <pad> <pad> <pad> <pad> <pad> <pad> <pad> <pad> <pad> <pad> <pad> <pad> <pad> <pad> <pad> <pad> <pad> <pad> <pad> <pad> <pad> <pad> <pad> <pad> <pad> <pad> <pad> <pad> <pad> <pad> <pad> <pad> <pad> <pad> <pad> <pad> <pad> <pad> <pad> <pad> <pad> <pad> <pad> <pad> <pad> <pad> <pad> <pad> <pad> <pad> <pad> <pad> <pad> <pad> <pad> <pad> <pad> <pad> <pad> <pad> <pad> <pad> <pad> <pad> <pad> <pad> <pad> <pad> <pad> <pad> <pad> <pad> <pad> <pad> <pad> <pad> <pad> <pad> <pad>\n"
     ]
    }
   ],
   "source": [
    "# test one sample\n",
    "example_tokens = encoded_texts[0]\n",
    "print(\" \".join([rev_word_map[t] for t in example_tokens]))"
   ]
  },
  {
   "cell_type": "markdown",
   "metadata": {},
   "source": [
    "#### Dataset and Data Loaders"
   ]
  },
  {
   "cell_type": "code",
   "execution_count": 106,
   "metadata": {},
   "outputs": [],
   "source": [
    "# Assuming label_train and label_test are lists of lists of indices\n",
    "# Convert to one-hot encoding since it's multi-label (one utterance can have multiple acts)\n",
    "num_classes = len(acts)\n",
    "\n",
    "# Create one-hot encoded tensors\n",
    "y_train = torch.zeros((len(label_train), num_classes))\n",
    "for i, labels in enumerate(label_train):\n",
    "    y_train[i, labels] = 1\n",
    "\n",
    "y_test = torch.zeros((len(label_test), num_classes))\n",
    "for i, labels in enumerate(label_test):\n",
    "    y_test[i, labels] = 1\n",
    "\n",
    "X_train = torch.tensor(encoded_texts)    # (number_of_samples, max_length)\n",
    "X_test = torch.tensor(encoded_texts_test)\n",
    "\n",
    "# Create datasets and dataloaders\n",
    "train_dataset = torch.utils.data.TensorDataset(X_train, y_train)\n",
    "train_loader = torch.utils.data.DataLoader(train_dataset,\n",
    "                                         batch_size=128,\n",
    "                                         shuffle=True)\n",
    "\n",
    "test_dataset = torch.utils.data.TensorDataset(X_test, y_test)\n",
    "test_loader = torch.utils.data.DataLoader(test_dataset,\n",
    "                                        batch_size=128,\n",
    "                                        shuffle=True)"
   ]
  },
  {
   "cell_type": "markdown",
   "metadata": {},
   "source": [
    "RNN Network defined by:\n",
    "\n",
    "$h_t= \\tanh \\left(W_h \\cdot\\left[h_{t-1}, x_t\\right]+b_i\\right)$ <br>"
   ]
  },
  {
   "cell_type": "code",
   "execution_count": 111,
   "metadata": {},
   "outputs": [],
   "source": [
    "class RNN(nn.Module):\n",
    "    def __init__(self, input_sz, hidden_sz, num_classes):\n",
    "        super(RNN, self).__init__()\n",
    "        self.input_size = input_sz\n",
    "        self.hidden_size = hidden_sz\n",
    "        self.num_classes = num_classes\n",
    "\n",
    "        self.W_h = nn.Linear(input_sz + hidden_sz, hidden_sz)\n",
    "        # Add output layer for multi-label classification\n",
    "        self.output_layer = nn.Linear(hidden_sz, num_classes)\n",
    "\n",
    "    def forward(self, x):\n",
    "        batch_size, seq_len, embed_dim = x.size()\n",
    "\n",
    "        h_t, c_t = (torch.zeros(batch_size, self.hidden_size).to(device),\n",
    "                    torch.zeros(batch_size, self.hidden_size).to(device))\n",
    "\n",
    "        hidden_states = []\n",
    "\n",
    "        for t in range(seq_len):\n",
    "            x_t = x[:, t, :]\n",
    "            common_input = torch.cat([x_t, h_t], dim=-1)\n",
    "            h_t = torch.tanh(self.W_h(common_input))\n",
    "            hidden_states.append(h_t.unsqueeze(1))\n",
    "\n",
    "        hidden_states = torch.cat(hidden_states, dim=1)\n",
    "        \n",
    "        # Use the final hidden state for classification\n",
    "        final_hidden = hidden_states[:, -1, :]\n",
    "        # Output logits for each class (don't apply sigmoid here)\n",
    "        logits = self.output_layer(final_hidden)\n",
    "        \n",
    "        return logits\n",
    "\n",
    "    def predict(self, x, threshold=0.5):\n",
    "        \"\"\"Helper method for inference\"\"\"\n",
    "        logits = self.forward(x)\n",
    "        probs = torch.sigmoid(logits)\n",
    "        return (probs > threshold).float()"
   ]
  },
  {
   "cell_type": "code",
   "execution_count": 117,
   "metadata": {},
   "outputs": [],
   "source": [
    "class Net(nn.Module):\n",
    "\n",
    "    def __init__(self, input_embedding_size, hidden_size, num_classes):\n",
    "\n",
    "        super().__init__()\n",
    "\n",
    "        self.embedding = nn.Embedding(len(word_map), input_embedding_size)\n",
    "        self.rnn = RNN(input_embedding_size, hidden_size, num_classes)\n",
    "\n",
    "    def forward(self, x):\n",
    "\n",
    "        # x is of shape (batch_size, max_seq_length)\n",
    "        x = self.embedding(x)   # (batch_size, seq_len, embed_dim)\n",
    "        x = self.rnn(x)        # (batch_size, seq_len, hidden_size)\n",
    "\n",
    "        return x"
   ]
  },
  {
   "cell_type": "code",
   "execution_count": 119,
   "metadata": {},
   "outputs": [],
   "source": [
    "# Initialize\n",
    "model = Net(\n",
    "    input_embedding_size=256,  # Your embedding dimension\n",
    "    hidden_size=512,          # Hidden size of your choice\n",
    "    num_classes=len(acts)   # Number of dialogue acts\n",
    ").to(device)\n",
    "\n",
    "# Loss function for multi-label classification\n",
    "criterion = nn.BCEWithLogitsLoss()\n",
    "\n",
    "# Training loop example\n",
    "optimizer = torch.optim.Adam(model.parameters())\n",
    "epochs = 10"
   ]
  },
  {
   "cell_type": "code",
   "execution_count": 120,
   "metadata": {},
   "outputs": [],
   "source": [
    "def train(epoch):\n",
    "    model.train()\n",
    "    train_loss = 0\n",
    "    total = 0\n",
    "    # For multi-label, we'll track f1 score instead of simple accuracy\n",
    "    all_predictions = []\n",
    "    all_targets = []\n",
    "    \n",
    "    for batch_idx, (inputs, targets) in enumerate(train_loader):\n",
    "        inputs = inputs.to(device)\n",
    "        targets = targets.to(device)\n",
    "\n",
    "        optimizer.zero_grad()\n",
    "        outputs = model(inputs)\n",
    "        loss = criterion(outputs, targets)\n",
    "        loss.backward()\n",
    "        optimizer.step()\n",
    "\n",
    "        # Keep track of loss and predictions\n",
    "        train_loss += loss.item()\n",
    "        predictions = (torch.sigmoid(outputs) > 0.5).float()\n",
    "        \n",
    "        all_predictions.extend(predictions.cpu().numpy())\n",
    "        all_targets.extend(targets.cpu().numpy())\n",
    "        total += targets.size(0)\n",
    "\n",
    "    epoch_loss = train_loss / (batch_idx + 1)\n",
    "    # Calculate micro-F1 score\n",
    "    f1 = f1_score(np.array(all_targets), np.array(all_predictions), average='micro')\n",
    "    \n",
    "    print(f'Epoch {epoch}/{epochs}, Train Loss: {epoch_loss:.3f}, Train F1: {f1:.3f}')\n",
    "    return epoch_loss, f1\n",
    "\n",
    "# Testing\n",
    "def test():\n",
    "    model.eval()\n",
    "    all_predictions = []\n",
    "    all_targets = []\n",
    "    test_loss = 0\n",
    "    \n",
    "    with torch.no_grad():\n",
    "        for batch_idx, (inputs, targets) in enumerate(tqdm(test_loader)):\n",
    "            inputs, targets = inputs.to(device), targets.to(device)\n",
    "            outputs = model(inputs)\n",
    "            loss = criterion(outputs, targets)\n",
    "            test_loss += loss.item()\n",
    "            \n",
    "            predictions = (torch.sigmoid(outputs) > 0.5).float()\n",
    "            all_predictions.extend(predictions.cpu().numpy())\n",
    "            all_targets.extend(targets.cpu().numpy())\n",
    "\n",
    "    test_loss = test_loss / (batch_idx + 1)\n",
    "    f1 = f1_score(np.array(all_targets), np.array(all_predictions), average='micro')\n",
    "    \n",
    "    print(f'Test Loss: {test_loss:.3f}, Test F1: {f1:.3f}')\n",
    "    return test_loss, f1\n",
    "\n",
    "# Inference on a single example\n",
    "def inference_example(sample_idx=5):\n",
    "    model.eval()\n",
    "    sample = X_test[sample_idx].unsqueeze(0).to(device)\n",
    "    \n",
    "    # Get the original sentence\n",
    "    sentence = ' '.join([rev_word_map[w] for w in X_test[sample_idx].tolist()])\n",
    "    print(f'Input sentence: {sentence}')\n",
    "    \n",
    "    # Get predictions\n",
    "    with torch.no_grad():\n",
    "        output = model(sample)\n",
    "        probs = torch.sigmoid(output)[0]\n",
    "        predictions = (probs > 0.5).float()\n",
    "        \n",
    "    # Print all predicted acts with their probabilities\n",
    "    print('\\nPredicted dialogue acts:')\n",
    "    for act_idx, (prob, is_predicted) in enumerate(zip(probs, predictions)):\n",
    "        if is_predicted:\n",
    "            act_name = inv_acts_labels[act_idx]\n",
    "            print(f'{act_name}: {prob.item():.3f}')\n",
    "\n",
    "# You'll need these imports\n",
    "from sklearn.metrics import f1_score\n",
    "import numpy as np"
   ]
  },
  {
   "cell_type": "code",
   "execution_count": 122,
   "metadata": {},
   "outputs": [
    {
     "name": "stdout",
     "output_type": "stream",
     "text": [
      "Input sentence: <start> sorry your reservation could not be made could i help you with something <end>\n",
      "\n",
      "Predicted dialogue acts:\n",
      "SYSTEM_INFORM: 0.903\n",
      "SYSTEM_REQUEST: 0.894\n",
      "CONFIRM: 0.943\n",
      "OFFER: 0.892\n",
      "NOTIFY_SUCCESS: 0.948\n",
      "NOTIFY_FAILURE: 0.993\n",
      "INFORM_COUNT: 0.956\n",
      "OFFER_INTENT: 0.976\n",
      "REQ_MORE: 0.962\n",
      "SYSTEM_GOODBYE: 0.935\n",
      "INFORM_INTENT: 0.882\n",
      "NEGATE_INTENT: 0.981\n",
      "AFFIRM_INTENT: 0.984\n",
      "USER_INFORM: 0.774\n",
      "USER_REQUEST: 0.867\n",
      "AFFIRM: 0.907\n",
      "NEGATE: 0.953\n",
      "SELECT: 0.921\n",
      "REQUEST_ALTS: 0.961\n",
      "THANK_YOU: 0.914\n",
      "USER_GOODBYE: 0.980\n"
     ]
    }
   ],
   "source": [
    "inference_example(5)"
   ]
  },
  {
   "cell_type": "code",
   "execution_count": 121,
   "metadata": {},
   "outputs": [
    {
     "name": "stdout",
     "output_type": "stream",
     "text": [
      "Epoch 0/10, Train Loss: 0.218, Train F1: 0.000\n",
      "Epoch 1/10, Train Loss: 0.218, Train F1: 0.000\n"
     ]
    },
    {
     "ename": "KeyboardInterrupt",
     "evalue": "",
     "output_type": "error",
     "traceback": [
      "\u001b[1;31m---------------------------------------------------------------------------\u001b[0m",
      "\u001b[1;31mKeyboardInterrupt\u001b[0m                         Traceback (most recent call last)",
      "Cell \u001b[1;32mIn[121], line 3\u001b[0m\n\u001b[0;32m      1\u001b[0m \u001b[38;5;66;03m# Training\u001b[39;00m\n\u001b[0;32m      2\u001b[0m \u001b[38;5;28;01mfor\u001b[39;00m epoch \u001b[38;5;129;01min\u001b[39;00m \u001b[38;5;28mrange\u001b[39m(epochs):\n\u001b[1;32m----> 3\u001b[0m     train_loss, train_f1 \u001b[38;5;241m=\u001b[39m \u001b[43mtrain\u001b[49m\u001b[43m(\u001b[49m\u001b[43mepoch\u001b[49m\u001b[43m)\u001b[49m\n\u001b[0;32m      5\u001b[0m \u001b[38;5;66;03m# Testing\u001b[39;00m\n\u001b[0;32m      6\u001b[0m test_loss, test_f1 \u001b[38;5;241m=\u001b[39m test()\n",
      "Cell \u001b[1;32mIn[120], line 16\u001b[0m, in \u001b[0;36mtrain\u001b[1;34m(epoch)\u001b[0m\n\u001b[0;32m     14\u001b[0m outputs \u001b[38;5;241m=\u001b[39m model(inputs)\n\u001b[0;32m     15\u001b[0m loss \u001b[38;5;241m=\u001b[39m criterion(outputs, targets)\n\u001b[1;32m---> 16\u001b[0m \u001b[43mloss\u001b[49m\u001b[38;5;241;43m.\u001b[39;49m\u001b[43mbackward\u001b[49m\u001b[43m(\u001b[49m\u001b[43m)\u001b[49m\n\u001b[0;32m     17\u001b[0m optimizer\u001b[38;5;241m.\u001b[39mstep()\n\u001b[0;32m     19\u001b[0m \u001b[38;5;66;03m# Keep track of loss and predictions\u001b[39;00m\n",
      "File \u001b[1;32mc:\\Users\\Ward\\anaconda3\\envs\\multibench\\Lib\\site-packages\\torch\\_tensor.py:581\u001b[0m, in \u001b[0;36mTensor.backward\u001b[1;34m(self, gradient, retain_graph, create_graph, inputs)\u001b[0m\n\u001b[0;32m    571\u001b[0m \u001b[38;5;28;01mif\u001b[39;00m has_torch_function_unary(\u001b[38;5;28mself\u001b[39m):\n\u001b[0;32m    572\u001b[0m     \u001b[38;5;28;01mreturn\u001b[39;00m handle_torch_function(\n\u001b[0;32m    573\u001b[0m         Tensor\u001b[38;5;241m.\u001b[39mbackward,\n\u001b[0;32m    574\u001b[0m         (\u001b[38;5;28mself\u001b[39m,),\n\u001b[1;32m   (...)\u001b[0m\n\u001b[0;32m    579\u001b[0m         inputs\u001b[38;5;241m=\u001b[39minputs,\n\u001b[0;32m    580\u001b[0m     )\n\u001b[1;32m--> 581\u001b[0m \u001b[43mtorch\u001b[49m\u001b[38;5;241;43m.\u001b[39;49m\u001b[43mautograd\u001b[49m\u001b[38;5;241;43m.\u001b[39;49m\u001b[43mbackward\u001b[49m\u001b[43m(\u001b[49m\n\u001b[0;32m    582\u001b[0m \u001b[43m    \u001b[49m\u001b[38;5;28;43mself\u001b[39;49m\u001b[43m,\u001b[49m\u001b[43m \u001b[49m\u001b[43mgradient\u001b[49m\u001b[43m,\u001b[49m\u001b[43m \u001b[49m\u001b[43mretain_graph\u001b[49m\u001b[43m,\u001b[49m\u001b[43m \u001b[49m\u001b[43mcreate_graph\u001b[49m\u001b[43m,\u001b[49m\u001b[43m \u001b[49m\u001b[43minputs\u001b[49m\u001b[38;5;241;43m=\u001b[39;49m\u001b[43minputs\u001b[49m\n\u001b[0;32m    583\u001b[0m \u001b[43m\u001b[49m\u001b[43m)\u001b[49m\n",
      "File \u001b[1;32mc:\\Users\\Ward\\anaconda3\\envs\\multibench\\Lib\\site-packages\\torch\\autograd\\__init__.py:347\u001b[0m, in \u001b[0;36mbackward\u001b[1;34m(tensors, grad_tensors, retain_graph, create_graph, grad_variables, inputs)\u001b[0m\n\u001b[0;32m    342\u001b[0m     retain_graph \u001b[38;5;241m=\u001b[39m create_graph\n\u001b[0;32m    344\u001b[0m \u001b[38;5;66;03m# The reason we repeat the same comment below is that\u001b[39;00m\n\u001b[0;32m    345\u001b[0m \u001b[38;5;66;03m# some Python versions print out the first line of a multi-line function\u001b[39;00m\n\u001b[0;32m    346\u001b[0m \u001b[38;5;66;03m# calls in the traceback and some print out the last line\u001b[39;00m\n\u001b[1;32m--> 347\u001b[0m \u001b[43m_engine_run_backward\u001b[49m\u001b[43m(\u001b[49m\n\u001b[0;32m    348\u001b[0m \u001b[43m    \u001b[49m\u001b[43mtensors\u001b[49m\u001b[43m,\u001b[49m\n\u001b[0;32m    349\u001b[0m \u001b[43m    \u001b[49m\u001b[43mgrad_tensors_\u001b[49m\u001b[43m,\u001b[49m\n\u001b[0;32m    350\u001b[0m \u001b[43m    \u001b[49m\u001b[43mretain_graph\u001b[49m\u001b[43m,\u001b[49m\n\u001b[0;32m    351\u001b[0m \u001b[43m    \u001b[49m\u001b[43mcreate_graph\u001b[49m\u001b[43m,\u001b[49m\n\u001b[0;32m    352\u001b[0m \u001b[43m    \u001b[49m\u001b[43minputs\u001b[49m\u001b[43m,\u001b[49m\n\u001b[0;32m    353\u001b[0m \u001b[43m    \u001b[49m\u001b[43mallow_unreachable\u001b[49m\u001b[38;5;241;43m=\u001b[39;49m\u001b[38;5;28;43;01mTrue\u001b[39;49;00m\u001b[43m,\u001b[49m\n\u001b[0;32m    354\u001b[0m \u001b[43m    \u001b[49m\u001b[43maccumulate_grad\u001b[49m\u001b[38;5;241;43m=\u001b[39;49m\u001b[38;5;28;43;01mTrue\u001b[39;49;00m\u001b[43m,\u001b[49m\n\u001b[0;32m    355\u001b[0m \u001b[43m\u001b[49m\u001b[43m)\u001b[49m\n",
      "File \u001b[1;32mc:\\Users\\Ward\\anaconda3\\envs\\multibench\\Lib\\site-packages\\torch\\autograd\\graph.py:825\u001b[0m, in \u001b[0;36m_engine_run_backward\u001b[1;34m(t_outputs, *args, **kwargs)\u001b[0m\n\u001b[0;32m    823\u001b[0m     unregister_hooks \u001b[38;5;241m=\u001b[39m _register_logging_hooks_on_whole_graph(t_outputs)\n\u001b[0;32m    824\u001b[0m \u001b[38;5;28;01mtry\u001b[39;00m:\n\u001b[1;32m--> 825\u001b[0m     \u001b[38;5;28;01mreturn\u001b[39;00m \u001b[43mVariable\u001b[49m\u001b[38;5;241;43m.\u001b[39;49m\u001b[43m_execution_engine\u001b[49m\u001b[38;5;241;43m.\u001b[39;49m\u001b[43mrun_backward\u001b[49m\u001b[43m(\u001b[49m\u001b[43m  \u001b[49m\u001b[38;5;66;43;03m# Calls into the C++ engine to run the backward pass\u001b[39;49;00m\n\u001b[0;32m    826\u001b[0m \u001b[43m        \u001b[49m\u001b[43mt_outputs\u001b[49m\u001b[43m,\u001b[49m\u001b[43m \u001b[49m\u001b[38;5;241;43m*\u001b[39;49m\u001b[43margs\u001b[49m\u001b[43m,\u001b[49m\u001b[43m \u001b[49m\u001b[38;5;241;43m*\u001b[39;49m\u001b[38;5;241;43m*\u001b[39;49m\u001b[43mkwargs\u001b[49m\n\u001b[0;32m    827\u001b[0m \u001b[43m    \u001b[49m\u001b[43m)\u001b[49m  \u001b[38;5;66;03m# Calls into the C++ engine to run the backward pass\u001b[39;00m\n\u001b[0;32m    828\u001b[0m \u001b[38;5;28;01mfinally\u001b[39;00m:\n\u001b[0;32m    829\u001b[0m     \u001b[38;5;28;01mif\u001b[39;00m attach_logging_hooks:\n",
      "\u001b[1;31mKeyboardInterrupt\u001b[0m: "
     ]
    }
   ],
   "source": [
    "# Training\n",
    "for epoch in range(epochs):\n",
    "    train_loss, train_f1 = train(epoch)\n",
    "\n",
    "# Testing\n",
    "test_loss, test_f1 = test()\n",
    "\n",
    "# Look at a single example\n",
    "inference_example(5)"
   ]
  },
  {
   "cell_type": "code",
   "execution_count": null,
   "metadata": {},
   "outputs": [],
   "source": [
    "plt.plot(losses)\n",
    "plt.xlabel('epoch')\n",
    "plt.ylabel('loss')\n",
    "plt.title('Loss Curve')"
   ]
  },
  {
   "cell_type": "code",
   "execution_count": null,
   "metadata": {},
   "outputs": [],
   "source": [
    "plt.plot(accuracies)\n",
    "plt.xlabel('epoch')\n",
    "plt.ylabel('accuracy')\n",
    "plt.title('Accuracy Curve')"
   ]
  },
  {
   "cell_type": "code",
   "execution_count": null,
   "metadata": {},
   "outputs": [],
   "source": [
    "model.eval()\n",
    "correct = 0\n",
    "total = 0\n",
    "with torch.no_grad():\n",
    "    for inputs, targets in tqdm(test_loader):\n",
    "        inputs, targets = inputs.to(device), targets.to(device)\n",
    "        outputs = model(inputs)\n",
    "        _, predicted = outputs.max(1)\n",
    "        total += targets.size(0)\n",
    "        correct += predicted.eq(targets).sum().item()\n",
    "\n",
    "acc = 100.*correct/total\n",
    "print('Test Accuracy: {:.3f}'.format(acc))"
   ]
  },
  {
   "cell_type": "code",
   "execution_count": null,
   "metadata": {},
   "outputs": [],
   "source": [
    "sample = inputs[5]\n",
    "sentence = ' '.join([rev_word_map[w] for w in sample.tolist()])\n",
    "print(sentence)\n",
    "\n",
    "output = model(sample.unsqueeze(0))\n",
    "prob, pred = F.softmax(output, dim = -1).max(1)\n",
    "\n",
    "print('index {} is predicted with a probability of {}'.format(pred.item(), prob.item()))\n",
    "print('index {} is {}'.format(pred.item(), inv_categories_labels[pred.item()]))"
   ]
  }
 ],
 "metadata": {
  "kernelspec": {
   "display_name": "multibench",
   "language": "python",
   "name": "python3"
  },
  "language_info": {
   "codemirror_mode": {
    "name": "ipython",
    "version": 3
   },
   "file_extension": ".py",
   "mimetype": "text/x-python",
   "name": "python",
   "nbconvert_exporter": "python",
   "pygments_lexer": "ipython3",
   "version": "3.12.3"
  }
 },
 "nbformat": 4,
 "nbformat_minor": 2
}
